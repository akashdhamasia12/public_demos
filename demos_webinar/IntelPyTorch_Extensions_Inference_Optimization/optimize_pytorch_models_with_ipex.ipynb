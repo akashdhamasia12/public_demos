{
 "cells": [
  {
   "cell_type": "markdown",
   "id": "1110103c-70d0-4ac0-8208-6a678b88deae",
   "metadata": {},
   "source": [
    "# Optimize PyTorch Models for Inference"
   ]
  },
  {
   "cell_type": "markdown",
   "id": "fb815f86-571f-4610-a496-22d3cf566332",
   "metadata": {},
   "source": [
    "In this notebook we will be generating synthetic data to be used for inference with sample computer vision and NLP workloads. We will first use stock PyTorch models to generate predictions. Then, with minimal code changes using Intel® Extension for PyTorch* (IPEX), we will see how speedups can be gained over stock PyTorch on Intel® hardware. We will also see how quantization features from IPEX can be used to reduce the inference time of a model."
   ]
  },
  {
   "cell_type": "markdown",
   "id": "431d988d-40f1-4f98-96fd-2e17b4126eb4",
   "metadata": {},
   "source": [
    "# Key Takeaways"
   ]
  },
  {
   "cell_type": "markdown",
   "id": "7438fa45-81e6-4d42-847b-fbe895ae8eed",
   "metadata": {},
   "source": [
    "- Get started with Intel® Extension for PyTorch* (IPEX) for drop-in acceleration\n",
    "- Learn how to use the *optimize* method from IPEX to apply optimizations at Python frontend to the given model (nn.Module)\n",
    "- Learn how to use Quantization features from IPEX to convert model to INT8\n",
    "- Learn how to use IPEX Launch Script module to set additional configurations on top of the previously mentioned optimizations to boost performance"
   ]
  },
  {
   "cell_type": "markdown",
   "id": "b7eb6281-5db9-4a4f-9c6a-3f9c132f30f9",
   "metadata": {
    "tags": []
   },
   "source": [
    "## 1. Computer Vision Workload - Faster R-CNN, Resnet50 Backbone"
   ]
  },
  {
   "cell_type": "markdown",
   "id": "d911257c-c9b0-4365-a308-95a4b3aea487",
   "metadata": {},
   "source": [
    "Faster R-CNN is a convolutional neural network used for object detection. We are going to use the **optimize** method from IPEX to apply optimizations. Following this, we will also use TorchScript to obtain performance gains."
   ]
  },
  {
   "cell_type": "markdown",
   "id": "96966a7b-b036-4f1c-8dd8-3b90b76f98c9",
   "metadata": {},
   "source": [
    "Let's start by importing all the necessary packages and modules"
   ]
  },
  {
   "cell_type": "code",
   "execution_count": 1,
   "id": "5a4cb03a-f6b4-465b-9363-b435b00336c8",
   "metadata": {},
   "outputs": [],
   "source": [
    "import time\n",
    "import torch\n",
    "import torchvision\n",
    "import os\n",
    "import matplotlib.pyplot as plt"
   ]
  },
  {
   "cell_type": "markdown",
   "id": "5f613973-ffb0-482a-bc56-c295bce3c088",
   "metadata": {},
   "source": [
    "**Prepare Sample Data**"
   ]
  },
  {
   "cell_type": "markdown",
   "id": "22eeae78-534e-4d44-a0f3-c48a4213ac3f",
   "metadata": {},
   "source": [
    "Let's generate a random image using torch to test performance"
   ]
  },
  {
   "cell_type": "code",
   "execution_count": 2,
   "id": "3e75c62d-dbbb-47da-aa07-717e9719d86a",
   "metadata": {},
   "outputs": [],
   "source": [
    "# set the device to cpu\n",
    "device = 'cpu'\n",
    "# generate a random image to observe speedup on\n",
    "image = torch.randn(1, 3, 1200, 1200)"
   ]
  },
  {
   "cell_type": "code",
   "execution_count": 3,
   "id": "678f5795-dcd8-439d-8d98-f4197a2417e4",
   "metadata": {},
   "outputs": [
    {
     "name": "stdout",
     "output_type": "stream",
     "text": [
      "torch.Size([1, 3, 1200, 1200])\n"
     ]
    }
   ],
   "source": [
    "# explore image shape\n",
    "\n",
    "print(image.shape)"
   ]
  },
  {
   "cell_type": "markdown",
   "id": "32a54de2-76e7-42f9-9506-5574f5bb95a4",
   "metadata": {},
   "source": [
    "**Helper Functions**"
   ]
  },
  {
   "cell_type": "markdown",
   "id": "43d0d63d-1d2b-4edc-8d36-0e2dd4ff3780",
   "metadata": {},
   "source": [
    "Some functions to help us with loading the model and summarizing the optimizations. The functions below will help us record the time taken to run and, plot comparison charts."
   ]
  },
  {
   "cell_type": "code",
   "execution_count": 4,
   "id": "c265eb1f-ef85-4ed1-941d-158d2ec16af6",
   "metadata": {},
   "outputs": [],
   "source": [
    "def load_model_eval_mode():\n",
    "    \"\"\"\n",
    "    Loads model and returns it in eval mode\n",
    "    \"\"\"\n",
    "    model = torchvision.models.detection.fasterrcnn_resnet50_fpn(weights=weights, progress=True,\n",
    "        num_classes=91, weights_backbone=weights_backbone).to(device)\n",
    "    model = model.eval()\n",
    "    \n",
    "    return model\n",
    "\n",
    "def get_average_inference_time(model, image):\n",
    "    \"\"\"\n",
    "    does a model warm up and times the model runtime\n",
    "    \"\"\"\n",
    "    with torch.no_grad():\n",
    "        # warm up\n",
    "        for _ in range(25):\n",
    "            model(image)\n",
    "\n",
    "        # measure\n",
    "        import time\n",
    "        start = time.time()\n",
    "        for _ in range(25):\n",
    "            output = model(image)\n",
    "        end = time.time()\n",
    "        average_inference_time = (end-start)/25*1000\n",
    "    \n",
    "    return average_inference_time\n",
    "\n",
    "def plot_speedup(inference_time_stock, inference_time_optimized):\n",
    "    \"\"\"\n",
    "    Plots a bar chart comparing the time taken by stock PyTorch model and the time taken by\n",
    "    the model optimized by IPEX\n",
    "    \"\"\"\n",
    "    data = {'stock_pytorch_time': inference_time_stock, 'optimized_time': inference_time_optimized}\n",
    "    model_type = list(data.keys())\n",
    "    times = list(data.values())\n",
    "\n",
    "    fig = plt.figure(figsize = (10, 5))\n",
    "\n",
    "    # creating the bar plot\n",
    "    plt.bar(model_type, times, color ='blue',\n",
    "            width = 0.4)\n",
    "\n",
    "    plt.ylabel(\"Runtime (ms)\")\n",
    "    plt.title(f\"Speedup acheived - {inference_time_stock/inference_time_optimized:.2f}x\")\n",
    "    plt.show()\n",
    "    \n",
    "\n"
   ]
  },
  {
   "cell_type": "markdown",
   "id": "46eb1386-203a-4667-aa9c-9b26adcd02c4",
   "metadata": {},
   "source": [
    "**Baseline PyTorch Model**"
   ]
  },
  {
   "cell_type": "markdown",
   "id": "c441b52d-597b-422c-bd01-524a687f8024",
   "metadata": {},
   "source": [
    "A baseline model is the simplest version of the model that can be loaded from the PyTorch hub. Let's load the baseline for Faster R-CNN model and get predictions."
   ]
  },
  {
   "cell_type": "code",
   "execution_count": 5,
   "id": "6d4efa17-9abe-4595-bcc1-8b9c3b966211",
   "metadata": {},
   "outputs": [],
   "source": [
    "# model configs\n",
    "weights = torchvision.models.detection.FasterRCNN_ResNet50_FPN_Weights.DEFAULT\n",
    "weights_backbone = torchvision.models.ResNet50_Weights.DEFAULT"
   ]
  },
  {
   "cell_type": "markdown",
   "id": "858fb895-8617-4997-a8ec-8974d00e4606",
   "metadata": {},
   "source": [
    "**Input Image Memory Format**"
   ]
  },
  {
   "cell_type": "markdown",
   "id": "43a1fa1e-2e89-4c43-b1e4-7682686c2a4a",
   "metadata": {},
   "source": [
    "There are two ways to represent image data that are inputs to a CNN model. Channels-First, and Channels-Last. In Channels-First, the channels dimension comes first followed by height and width. For example - (3, 224, 224) or NCHW where N is batch size, C is channels, H is height, and W is width. In Channels-Last, the channels dimension comes last. For example - (224, 223, 3) or NHWC."
   ]
  },
  {
   "cell_type": "markdown",
   "id": "a12280f4-b8a1-4c9a-89d3-2f092396f431",
   "metadata": {},
   "source": [
    "**Channels-First**"
   ]
  },
  {
   "cell_type": "markdown",
   "id": "59f09f4f-de2c-4006-83e0-d201b58097e6",
   "metadata": {},
   "source": [
    "PyTorch uses channels-first by default"
   ]
  },
  {
   "cell_type": "code",
   "execution_count": 6,
   "id": "f054f770-c8d6-4fe7-baed-7ed77c510a13",
   "metadata": {},
   "outputs": [
    {
     "name": "stdout",
     "output_type": "stream",
     "text": [
      "time taken for forward pass: 518.971357345581 ms\n"
     ]
    }
   ],
   "source": [
    "# send the input to the device and pass it through the network to\n",
    "# get the detections and predictions\n",
    "\n",
    "model = load_model_eval_mode()\n",
    "\n",
    "inference_time_stock = get_average_inference_time(model, image)\n",
    "\n",
    "print(f\"time taken for forward pass: {inference_time_stock} ms\")"
   ]
  },
  {
   "cell_type": "markdown",
   "id": "3285b34b-03a2-4654-8061-a4dd9f66d1e9",
   "metadata": {},
   "source": [
    "**Channels-Last**"
   ]
  },
  {
   "cell_type": "markdown",
   "id": "31439e30-344e-455c-816a-a88eb868ede4",
   "metadata": {},
   "source": [
    "Channels-Last memory format is a different way of ordering NCHW tensors allowing us to make Channels-Last memory format optimizations on Intel® hardware"
   ]
  },
  {
   "cell_type": "code",
   "execution_count": 7,
   "id": "f0afc270-0d24-4e8d-a1a9-271dd66fc350",
   "metadata": {},
   "outputs": [
    {
     "name": "stdout",
     "output_type": "stream",
     "text": [
      "time taken for forward pass: 422.10373878479004 ms\n"
     ]
    }
   ],
   "source": [
    "model = load_model_eval_mode()\n",
    "model = model.to(memory_format=torch.channels_last)\n",
    "image_channels_last = image.to(memory_format=torch.channels_last)\n",
    "\n",
    "inference_time_stock = get_average_inference_time(model, image_channels_last)\n",
    "\n",
    "print(f\"time taken for forward pass: {inference_time_stock} ms\")"
   ]
  },
  {
   "cell_type": "markdown",
   "id": "9cfff9fc-0e9d-4703-8369-da1db780d15e",
   "metadata": {},
   "source": [
    "Now that we have timed the stock PyTorch model, let's add minimal code changes from IPEX to obtain speedups. The minimal code changes are highlighted in the following cell"
   ]
  },
  {
   "cell_type": "markdown",
   "id": "aef650d5-02db-40a6-9688-90a03fee7da2",
   "metadata": {},
   "source": [
    "**IPEX**"
   ]
  },
  {
   "cell_type": "markdown",
   "id": "05237e85-1039-4fb5-8651-bb815824a1d9",
   "metadata": {},
   "source": [
    "As described above, IPEX provides us with the ability to make minimal code changes to apply optimizations over stock PyTorch models using Intel® hardware. The simple code changes are indicated below."
   ]
  },
  {
   "cell_type": "code",
   "execution_count": 31,
   "id": "6356714f-c2b3-46c7-8dab-103d40054eb0",
   "metadata": {},
   "outputs": [],
   "source": [
    "model = load_model_eval_mode()\n",
    "model = model.to(memory_format=torch.channels_last)\n",
    "image_channels_last = image.to(memory_format=torch.channels_last)\n",
    "#################### code changes ####################\n",
    "import intel_extension_for_pytorch as ipex\n",
    "model = ipex.optimize(model, dtype=torch.float32)\n",
    "######################################################"
   ]
  },
  {
   "cell_type": "code",
   "execution_count": 32,
   "id": "6bdd609b-13ec-4bb7-93ec-b2f8a6dd0f68",
   "metadata": {},
   "outputs": [
    {
     "ename": "TypeError",
     "evalue": "DistilBertModel(\n  (embeddings): Embeddings(\n    (word_embeddings): Embedding(30522, 768, padding_idx=0)\n    (position_embeddings): Embedding(512, 768)\n    (LayerNorm): LayerNorm((768,), eps=1e-12, elementwise_affine=True)\n    (dropout): Identity()\n  )\n  (transformer): Transformer(\n    (layer): ModuleList(\n      (0-5): 6 x TransformerBlock(\n        (attention): MultiHeadSelfAttention(\n          (dropout): Identity()\n          (q_lin): _IPEXLinear()\n          (k_lin): _IPEXLinear()\n          (v_lin): _IPEXLinear()\n          (out_lin): _IPEXLinear()\n        )\n        (sa_layer_norm): LayerNorm((768,), eps=1e-12, elementwise_affine=True)\n        (ffn): FFN(\n          (dropout): Identity()\n          (lin1): _IPEXLinear()\n          (lin2): _IPEXLinear()\n          (activation): GELUActivation()\n        )\n        (output_layer_norm): LayerNorm((768,), eps=1e-12, elementwise_affine=True)\n      )\n    )\n  )\n) argument after ** must be a mapping, not Tensor",
     "output_type": "error",
     "traceback": [
      "\u001b[0;31m---------------------------------------------------------------------------\u001b[0m",
      "\u001b[0;31mTypeError\u001b[0m                                 Traceback (most recent call last)",
      "Cell \u001b[0;32mIn[32], line 1\u001b[0m\n\u001b[0;32m----> 1\u001b[0m inference_time_optimized \u001b[38;5;241m=\u001b[39m \u001b[43mget_average_inference_time\u001b[49m\u001b[43m(\u001b[49m\u001b[43mmodel\u001b[49m\u001b[43m,\u001b[49m\u001b[43m \u001b[49m\u001b[43mimage_channels_last\u001b[49m\u001b[43m)\u001b[49m\n\u001b[1;32m      3\u001b[0m \u001b[38;5;28mprint\u001b[39m(\u001b[38;5;124mf\u001b[39m\u001b[38;5;124m\"\u001b[39m\u001b[38;5;124mtime taken for forward pass: \u001b[39m\u001b[38;5;132;01m{\u001b[39;00minference_time_optimized\u001b[38;5;132;01m}\u001b[39;00m\u001b[38;5;124m ms\u001b[39m\u001b[38;5;124m\"\u001b[39m)\n",
      "Cell \u001b[0;32mIn[19], line 17\u001b[0m, in \u001b[0;36mget_average_inference_time\u001b[0;34m(model, inputs)\u001b[0m\n\u001b[1;32m     14\u001b[0m \u001b[38;5;28;01mwith\u001b[39;00m torch\u001b[38;5;241m.\u001b[39mno_grad():\n\u001b[1;32m     15\u001b[0m     \u001b[38;5;66;03m# warm up\u001b[39;00m\n\u001b[1;32m     16\u001b[0m     \u001b[38;5;28;01mfor\u001b[39;00m _ \u001b[38;5;129;01min\u001b[39;00m \u001b[38;5;28mrange\u001b[39m(\u001b[38;5;241m25\u001b[39m):\n\u001b[0;32m---> 17\u001b[0m         model(\u001b[38;5;241m*\u001b[39m\u001b[38;5;241m*\u001b[39minputs)\n\u001b[1;32m     19\u001b[0m     \u001b[38;5;66;03m# measure\u001b[39;00m\n\u001b[1;32m     20\u001b[0m     \u001b[38;5;28;01mimport\u001b[39;00m \u001b[38;5;21;01mtime\u001b[39;00m\n",
      "\u001b[0;31mTypeError\u001b[0m: DistilBertModel(\n  (embeddings): Embeddings(\n    (word_embeddings): Embedding(30522, 768, padding_idx=0)\n    (position_embeddings): Embedding(512, 768)\n    (LayerNorm): LayerNorm((768,), eps=1e-12, elementwise_affine=True)\n    (dropout): Identity()\n  )\n  (transformer): Transformer(\n    (layer): ModuleList(\n      (0-5): 6 x TransformerBlock(\n        (attention): MultiHeadSelfAttention(\n          (dropout): Identity()\n          (q_lin): _IPEXLinear()\n          (k_lin): _IPEXLinear()\n          (v_lin): _IPEXLinear()\n          (out_lin): _IPEXLinear()\n        )\n        (sa_layer_norm): LayerNorm((768,), eps=1e-12, elementwise_affine=True)\n        (ffn): FFN(\n          (dropout): Identity()\n          (lin1): _IPEXLinear()\n          (lin2): _IPEXLinear()\n          (activation): GELUActivation()\n        )\n        (output_layer_norm): LayerNorm((768,), eps=1e-12, elementwise_affine=True)\n      )\n    )\n  )\n) argument after ** must be a mapping, not Tensor"
     ]
    }
   ],
   "source": [
    "inference_time_optimized = get_average_inference_time(model, image_channels_last)\n",
    "\n",
    "print(f\"time taken for forward pass: {inference_time_optimized} ms\")"
   ]
  },
  {
   "cell_type": "code",
   "execution_count": 33,
   "id": "5843fe0f-52c3-49a5-b231-f4ca514395a6",
   "metadata": {},
   "outputs": [
    {
     "data": {
      "image/png": "[encoded data removed]",
      "text/plain": [
       "<Figure size 1000x500 with 1 Axes>"
      ]
     },
     "metadata": {},
     "output_type": "display_data"
    }
   ],
   "source": [
    "# plot performance gain bar chart\n",
    "\n",
    "plot_speedup(inference_time_stock, inference_time_optimized)"
   ]
  },
  {
   "cell_type": "markdown",
   "id": "d263abf8-e0b6-4d99-a14a-67e46c197c3d",
   "metadata": {},
   "source": [
    "> **_NOTE:_**  If a below par performance is observed, please restart the notebook kernel."
   ]
  },
  {
   "cell_type": "markdown",
   "id": "9783338c",
   "metadata": {},
   "source": [
    "#### IPEX-bf16"
   ]
  },
  {
   "cell_type": "code",
   "execution_count": 34,
   "id": "bde16d47",
   "metadata": {},
   "outputs": [],
   "source": [
    "model = load_model_eval_mode()\n",
    "model = model.to(memory_format=torch.channels_last)\n",
    "image_channels_last = image.to(memory_format=torch.channels_last)\n",
    "#################### code changes ####################\n",
    "import intel_extension_for_pytorch as ipex\n",
    "model = ipex.optimize(model, dtype=torch.bfloat16)\n",
    "######################################################"
   ]
  },
  {
   "cell_type": "code",
   "execution_count": 12,
   "id": "290712bb",
   "metadata": {},
   "outputs": [
    {
     "name": "stdout",
     "output_type": "stream",
     "text": [
      "time taken for forward pass: 258.5513114929199 ms\n"
     ]
    }
   ],
   "source": [
    "with torch.no_grad(), torch.cpu.amp.autocast():\n",
    "    inference_time_optimized = get_average_inference_time(model, image_channels_last)\n",
    "\n",
    "print(f\"time taken for forward pass: {inference_time_optimized} ms\")"
   ]
  },
  {
   "cell_type": "code",
   "execution_count": 13,
   "id": "d3f0bf66",
   "metadata": {},
   "outputs": [
    {
     "data": {
      "image/png": "[encoded data removed]",
      "text/plain": [
       "<Figure size 1000x500 with 1 Axes>"
      ]
     },
     "metadata": {},
     "output_type": "display_data"
    }
   ],
   "source": [
    "# plot performance gain bar chart\n",
    "\n",
    "plot_speedup(inference_time_stock, inference_time_optimized)"
   ]
  },
  {
   "cell_type": "markdown",
   "id": "6d465fcc-8115-46de-9542-2c4c8d7c1771",
   "metadata": {},
   "source": [
    "**TorchScript**"
   ]
  },
  {
   "cell_type": "markdown",
   "id": "e96cbe96-92c2-4429-b90b-4e78a4bac04d",
   "metadata": {},
   "source": [
    "TorchScript is a way to create serializable and optimizable models from PyTorch code."
   ]
  },
  {
   "cell_type": "code",
   "execution_count": 14,
   "id": "87254f28-ce41-4066-81c1-bcd646a0b871",
   "metadata": {},
   "outputs": [
    {
     "name": "stdout",
     "output_type": "stream",
     "text": [
      "time taken for forward pass: 127.73751258850096 ms\n"
     ]
    }
   ],
   "source": [
    "model = load_model_eval_mode()\n",
    "model = model.to(memory_format=torch.channels_last)\n",
    "with torch.no_grad():\n",
    "    model.backbone = torch.jit.trace(model.backbone, image_channels_last, strict=False)\n",
    "    model.backbone = torch.jit.freeze(model.backbone)\n",
    "    inference_time_optimized = get_average_inference_time(model, image_channels_last)\n",
    "\n",
    "print(f\"time taken for forward pass: {inference_time_optimized} ms\")"
   ]
  },
  {
   "cell_type": "code",
   "execution_count": 15,
   "id": "0ad01762-ded5-4380-b649-7a3db30c3b34",
   "metadata": {},
   "outputs": [
    {
     "data": {
      "image/png": "[encoded data removed]",
      "text/plain": [
       "<Figure size 1000x500 with 1 Axes>"
      ]
     },
     "metadata": {},
     "output_type": "display_data"
    }
   ],
   "source": [
    "# plot performance gain bar chart\n",
    "\n",
    "plot_speedup(inference_time_stock, inference_time_optimized)"
   ]
  },
  {
   "cell_type": "markdown",
   "id": "df50cfbd",
   "metadata": {},
   "source": [
    "#### TorchScript with bf16"
   ]
  },
  {
   "cell_type": "code",
   "execution_count": 16,
   "id": "fd764b8f",
   "metadata": {},
   "outputs": [
    {
     "name": "stdout",
     "output_type": "stream",
     "text": [
      "time taken for forward pass: 144.3599796295166 ms\n"
     ]
    }
   ],
   "source": [
    "model = load_model_eval_mode()\n",
    "model = model.to(memory_format=torch.channels_last)\n",
    "image_channels_last = image.to(memory_format=torch.channels_last)\n",
    "#################### code changes ####################\n",
    "import intel_extension_for_pytorch as ipex\n",
    "model = ipex.optimize(model, dtype=torch.bfloat16)\n",
    "######################################################\n",
    "\n",
    "with torch.no_grad(), torch.cpu.amp.autocast():\n",
    "    model.backbone = torch.jit.trace(model.backbone, image_channels_last, strict=False)\n",
    "    model.backbone = torch.jit.freeze(model.backbone)\n",
    "    inference_time_optimized = get_average_inference_time(model, image_channels_last)\n",
    "    \n",
    "print(f\"time taken for forward pass: {inference_time_optimized} ms\")"
   ]
  },
  {
   "cell_type": "code",
   "execution_count": 17,
   "id": "dc7ebe1a",
   "metadata": {},
   "outputs": [
    {
     "data": {
      "image/png": "[encoded data removed]",
      "text/plain": [
       "<Figure size 1000x500 with 1 Axes>"
      ]
     },
     "metadata": {},
     "output_type": "display_data"
    }
   ],
   "source": [
    "# plot performance gain bar chart\n",
    "\n",
    "plot_speedup(inference_time_stock, inference_time_optimized)"
   ]
  },
  {
   "cell_type": "markdown",
   "id": "11b2888e-1171-400d-a5f9-783e6c52f01e",
   "metadata": {},
   "source": [
    "## 2. NLP Workload - DistilBERT Base Uncased"
   ]
  },
  {
   "cell_type": "markdown",
   "id": "62666465-5647-4ccb-a53c-d389d3261629",
   "metadata": {},
   "source": [
    "DistilBERT is a transformer model, smaller and faster than BERT. We will use the Quantization feature from IPEX to convert the model into INT8 for faster inference."
   ]
  },
  {
   "cell_type": "code",
   "execution_count": 18,
   "id": "e10eba7b-3d6e-46e8-8baf-8eddcc5f9d2a",
   "metadata": {},
   "outputs": [],
   "source": [
    "from transformers import DistilBertTokenizer, DistilBertModel, logging\n",
    "logging.set_verbosity_error()"
   ]
  },
  {
   "cell_type": "markdown",
   "id": "8b7899a8-205d-4ebc-b304-e9ee65ad3643",
   "metadata": {},
   "source": [
    "**Helper Functions**"
   ]
  },
  {
   "cell_type": "markdown",
   "id": "797de740-3a76-48cc-838c-ef8e981cd41b",
   "metadata": {},
   "source": [
    "Similar functions as before to help us load the model and summarize the optimizations"
   ]
  },
  {
   "cell_type": "code",
   "execution_count": 19,
   "id": "b0b68ba1-9215-4408-b3ee-5d6d610cffd7",
   "metadata": {},
   "outputs": [],
   "source": [
    "def load_model_eval_mode():\n",
    "    \"\"\"\n",
    "    Loads model and returns it in eval mode\n",
    "    \"\"\"\n",
    "    model = DistilBertModel.from_pretrained('distilbert-base-uncased-distilled-squad')\n",
    "    model.eval()\n",
    "    \n",
    "    return model\n",
    "\n",
    "def get_average_inference_time(model, inputs):\n",
    "    \"\"\"\n",
    "    does a model warm up and times the model runtime\n",
    "    \"\"\"\n",
    "    with torch.no_grad():\n",
    "        # warm up\n",
    "        for _ in range(25):\n",
    "            model(**inputs)\n",
    "\n",
    "        # measure\n",
    "        import time\n",
    "        start = time.time()\n",
    "        for _ in range(25):\n",
    "            outputs = model(**inputs)\n",
    "        end = time.time()\n",
    "        average_inference_time = (end-start)/25*1000\n",
    "    \n",
    "    return average_inference_time"
   ]
  },
  {
   "cell_type": "markdown",
   "id": "81ec7560-5a3d-4450-badd-7ff3e5d6ae9b",
   "metadata": {},
   "source": [
    "Generate sample text and tokenize using the transformers tokenizer"
   ]
  },
  {
   "cell_type": "code",
   "execution_count": 20,
   "id": "5d94e1ea-03f8-4f2b-9c05-ae4a97d7d7d1",
   "metadata": {},
   "outputs": [],
   "source": [
    "# tokenizer for distilbert\n",
    "tokenizer = DistilBertTokenizer.from_pretrained('distilbert-base-uncased-distilled-squad')\n",
    "\n",
    "# sample data\n",
    "question, text = \"Who was Jim Henson?\", \"Jim Henson was a nice puppet\""
   ]
  },
  {
   "cell_type": "code",
   "execution_count": 21,
   "id": "e146748d-7b31-4e62-82fb-92e3cd231f0e",
   "metadata": {},
   "outputs": [
    {
     "name": "stdout",
     "output_type": "stream",
     "text": [
      "time taken for forward pass: 5.4955291748046875 ms\n"
     ]
    }
   ],
   "source": [
    "model = load_model_eval_mode()\n",
    "\n",
    "inputs = tokenizer(question, text, return_tensors=\"pt\")\n",
    "\n",
    "inference_time_stock = get_average_inference_time(model, inputs)\n",
    "\n",
    "print(f\"time taken for forward pass: {inference_time_stock} ms\")"
   ]
  },
  {
   "cell_type": "markdown",
   "id": "fd79e93e-bc11-48b2-8a92-b74f29e4d2bf",
   "metadata": {},
   "source": [
    "**Quantization**"
   ]
  },
  {
   "cell_type": "markdown",
   "id": "1cfbb3fe-d99f-4e74-abd0-04bdbbe6e632",
   "metadata": {},
   "source": [
    "Quantization allows us to perform operations and store tensors at a lower precision than FP32, like INT8 for example. This compact model and data representation results in a lower memory requirement."
   ]
  },
  {
   "cell_type": "markdown",
   "id": "1c8ed525-7075-4a88-80d2-dfb739468994",
   "metadata": {},
   "source": [
    "Let's import the quantization modules"
   ]
  },
  {
   "cell_type": "code",
   "execution_count": 22,
   "id": "342873f5-72a3-4105-a2a5-68778d0599c8",
   "metadata": {},
   "outputs": [],
   "source": [
    "from intel_extension_for_pytorch.quantization import prepare, convert\n",
    "import intel_extension_for_pytorch as ipex"
   ]
  },
  {
   "cell_type": "markdown",
   "id": "b71e64d0-21f7-497f-86c3-d1afcaeefd6c",
   "metadata": {},
   "source": [
    "**Static Quantization**  \n",
    " Static quantization quantizes the weights and activations of the model. It fuses activations into preceding layers where possible. It requires calibration with a representative dataset to determine optimal quantization parameters for activations."
   ]
  },
  {
   "cell_type": "code",
   "execution_count": 23,
   "id": "3ef972ab-a272-45dd-bd55-fbd9f7db5017",
   "metadata": {},
   "outputs": [
    {
     "name": "stderr",
     "output_type": "stream",
     "text": [
      "/home/sdp/anaconda3/envs/a_webinar_TP/lib/python3.9/site-packages/intel_extension_for_pytorch/quantization/_quantize.py:48: UserWarning: Conv BatchNorm folding failed during the prepare process.\n",
      "  warnings.warn(\"Conv BatchNorm folding failed during the prepare process.\")\n",
      "/home/sdp/anaconda3/envs/a_webinar_TP/lib/python3.9/site-packages/intel_extension_for_pytorch/quantization/_quantization_state_utils.py:363: TracerWarning: Converting a tensor to a Python number might cause the trace to be incorrect. We can't record the data flow of Python values, so this value will be treated as a constant in the future. This means that the trace might not generalize to other inputs!\n",
      "  args = torch.quantize_per_tensor(args, scale.item(), zp.item(), dtype)\n",
      "/home/sdp/anaconda3/envs/a_webinar_TP/lib/python3.9/site-packages/intel_extension_for_pytorch/quantization/_quantization_state.py:364: TracerWarning: Converting a tensor to a Python boolean might cause the trace to be incorrect. We can't record the data flow of Python values, so this value will be treated as a constant in the future. This means that the trace might not generalize to other inputs!\n",
      "  if scale.numel() > 1:\n",
      "/home/sdp/anaconda3/envs/a_webinar_TP/lib/python3.9/site-packages/transformers/models/distilbert/modeling_distilbert.py:223: TracerWarning: torch.tensor results are registered as constants in the trace. You can safely ignore this warning if you use this function to create tensors out of constant variables that would be the same every time you call this function. In any other case, this might cause the trace to be incorrect.\n",
      "  mask, torch.tensor(torch.finfo(scores.dtype).min)\n",
      "/home/sdp/anaconda3/envs/a_webinar_TP/lib/python3.9/site-packages/intel_extension_for_pytorch/quantization/_quantization_state_utils.py:371: TracerWarning: Converting a tensor to a Python number might cause the trace to be incorrect. We can't record the data flow of Python values, so this value will be treated as a constant in the future. This means that the trace might not generalize to other inputs!\n",
      "  args = torch.quantize_per_tensor(args, scale.item(), zp.item(), dtype)\n"
     ]
    }
   ],
   "source": [
    "model = load_model_eval_mode()\n",
    "\n",
    "inputs = tokenizer(question, text, return_tensors=\"pt\")\n",
    "\n",
    "jit_inputs  = tuple((inputs['input_ids'], inputs['attention_mask']))\n",
    "\n",
    "qconfig = ipex.quantization.default_static_qconfig\n",
    "prepared_model = prepare(model, qconfig, example_inputs=jit_inputs, inplace=False)\n",
    "\n",
    "for i in range(2):\n",
    "    calibration_output = prepared_model(**inputs)\n",
    "\n",
    "model = convert(prepared_model)\n",
    "with torch.no_grad():\n",
    "    model = torch.jit.trace(model, jit_inputs, strict=False)\n",
    "    model = torch.jit.freeze(model)\n",
    "    y = model(**inputs)\n",
    "    y = model(**inputs)"
   ]
  },
  {
   "cell_type": "code",
   "execution_count": 24,
   "id": "7983dfa3-8bb2-4f9e-994c-24cbd556b94d",
   "metadata": {},
   "outputs": [
    {
     "name": "stdout",
     "output_type": "stream",
     "text": [
      "time taken for forward pass: 4.7164154052734375 ms\n"
     ]
    }
   ],
   "source": [
    "inference_time_optimized = get_average_inference_time(model, inputs)\n",
    "\n",
    "print(f\"time taken for forward pass: {inference_time_optimized} ms\")"
   ]
  },
  {
   "cell_type": "code",
   "execution_count": 25,
   "id": "54e19218-dd71-4711-a25a-8e7c8a787d19",
   "metadata": {},
   "outputs": [
    {
     "data": {
      "image/png": "[encoded data removed]",
      "text/plain": [
       "<Figure size 1000x500 with 1 Axes>"
      ]
     },
     "metadata": {},
     "output_type": "display_data"
    }
   ],
   "source": [
    "# plot performance gain bar chart\n",
    "\n",
    "plot_speedup(inference_time_stock, inference_time_optimized)"
   ]
  },
  {
   "cell_type": "markdown",
   "id": "5e79ec28-6063-4d21-95d5-32be78bd49af",
   "metadata": {},
   "source": [
    "**Dynamic Quantization**  \n",
    " In dynamic quantization the weights are quantized ahead of time but the activations are dynamically quantized during inference"
   ]
  },
  {
   "cell_type": "code",
   "execution_count": 26,
   "id": "4bef3494-b5c5-4acd-8431-71e3199a9764",
   "metadata": {},
   "outputs": [
    {
     "name": "stderr",
     "output_type": "stream",
     "text": [
      "/home/sdp/anaconda3/envs/a_webinar_TP/lib/python3.9/site-packages/torch/ao/quantization/observer.py:1348: UserWarning: Please use `is_dynamic` instead of `compute_dtype`.                     `compute_dtype` will be deprecated in a future release                     of PyTorch.\n",
      "  warnings.warn(\n"
     ]
    }
   ],
   "source": [
    "model = load_model_eval_mode()\n",
    "\n",
    "inputs = tokenizer(question, text, return_tensors=\"pt\")\n",
    "\n",
    "jit_inputs  = tuple((inputs['input_ids'], inputs['attention_mask']))\n",
    "\n",
    "qconfig = ipex.quantization.default_dynamic_qconfig\n",
    "prepared_model = prepare(model, qconfig, example_inputs=jit_inputs, inplace=False)\n",
    "\n",
    "model = convert(prepared_model)\n",
    "with torch.no_grad():\n",
    "    model = torch.jit.trace(model, jit_inputs, strict=False)\n",
    "    model = torch.jit.freeze(model)\n",
    "    y = model(**inputs)\n",
    "    y = model(**inputs)"
   ]
  },
  {
   "cell_type": "code",
   "execution_count": 27,
   "id": "3cc311f2-6215-41ff-a7ed-e1942e0cbbde",
   "metadata": {},
   "outputs": [
    {
     "name": "stdout",
     "output_type": "stream",
     "text": [
      "time taken for forward pass: 4.005985260009766 ms\n"
     ]
    }
   ],
   "source": [
    "inference_time_optimized = get_average_inference_time(model, inputs)\n",
    "\n",
    "print(f\"time taken for forward pass: {inference_time_optimized} ms\")"
   ]
  },
  {
   "cell_type": "code",
   "execution_count": 28,
   "id": "fb75733c-91d9-4d38-97a8-a5bb4b3063a8",
   "metadata": {},
   "outputs": [
    {
     "data": {
      "image/png": "[encoded data removed]",
      "text/plain": [
       "<Figure size 1000x500 with 1 Axes>"
      ]
     },
     "metadata": {},
     "output_type": "display_data"
    }
   ],
   "source": [
    "# plot performance gain bar chart\n",
    "\n",
    "plot_speedup(inference_time_stock, inference_time_optimized)"
   ]
  },
  {
   "cell_type": "markdown",
   "id": "bff70b14-26d9-4ef8-894a-6d0a40973324",
   "metadata": {},
   "source": [
    "**IPEX Launch Script**"
   ]
  },
  {
   "cell_type": "markdown",
   "id": "63f71568-902f-4e9f-a130-cc5fae1961db",
   "metadata": {},
   "source": [
    "Default primitives of PyTorch and IPEX are highly optimized, there are things users can do improve performance. Setting configuration options properly contributes to a performance boost. However, there is no unified configuration that is optimal to all topologies. Users need to try different combinations by themselves."
   ]
  },
  {
   "cell_type": "markdown",
   "id": "f826ac48-17e2-48b4-ab2c-0a47620790a7",
   "metadata": {},
   "source": [
    "**Single instance for inference**"
   ]
  },
  {
   "cell_type": "markdown",
   "id": "f300e009-f7cb-4403-8229-938bf89b0920",
   "metadata": {},
   "source": [
    "The launch script is provided as a module of IPEX. Below are some of those configurations that can be set using the launch script for a single instance. The launch script can be run as a shell command from a Jupyter notebook or from the shell itself."
   ]
  },
  {
   "cell_type": "markdown",
   "id": "35ed3f44-c019-4997-a73d-a043ddfa12ee",
   "metadata": {},
   "source": [
    "To explore the features of the launch script module, we will be using a ResNet-50 model, which is a a convolutional neural network that is 50 layers deep.The model script is present in the scripts folder"
   ]
  },
  {
   "cell_type": "markdown",
   "id": "edbd3506-dc86-4f18-b666-dfa9e9e3705a",
   "metadata": {},
   "source": [
    "It is recommended that the user check the output of [htop](https://htop.dev/) in an accompanying terminal to check the usage of cores while running the cells below. The output from htop looks as shown below."
   ]
  },
  {
   "cell_type": "markdown",
   "id": "b5015d8d-6ac6-41c4-a10e-509069b699ee",
   "metadata": {},
   "source": [
    "![htop](https://intel.github.io/intel-extension-for-pytorch/latest/_images/1ins_phy.gif)"
   ]
  },
  {
   "cell_type": "markdown",
   "id": "91737a0e-1a14-4582-a9c4-63b24e963ff7",
   "metadata": {},
   "source": [
    "By running the below command, One main worker thread will be launched, then it will launch threads on 2 other physical cores."
   ]
  },
  {
   "cell_type": "code",
   "execution_count": 29,
   "id": "76265fe7-52cd-4574-9657-18efa5c25514",
   "metadata": {},
   "outputs": [
    {
     "name": "stdout",
     "output_type": "stream",
     "text": [
      " \n",
      ":: WARNING: setvars.sh has already been run. Skipping re-execution.\n",
      "   To force a re-execution of setvars.sh, use the '--force' option.\n",
      "   Using '--force' can result in excessive use of your environment variables.\n",
      "  \n",
      "usage: source setvars.sh [--force] [--config=file] [--help] [...]\n",
      "  --force        Force setvars.sh to re-run, doing so may overload environment.\n",
      "  --config=file  Customize env vars using a setvars.sh configuration file.\n",
      "  --help         Display this help message and exit.\n",
      "  ...            Additional args are passed to individual env/vars.sh scripts\n",
      "                 and should follow this script's arguments.\n",
      "  \n",
      "  Some POSIX shells do not accept command-line options. In that case, you can pass\n",
      "  command-line options via the SETVARS_ARGS environment variable. For example:\n",
      "  \n",
      "  $ SETVARS_ARGS=\"ia32 --config=config.txt\" ; export SETVARS_ARGS\n",
      "  $ . path/to/setvars.sh\n",
      "  \n",
      "  The SETVARS_ARGS environment variable is cleared on exiting setvars.sh.\n",
      "  \n",
      "\n",
      "CommandNotFoundError: Your shell has not been properly configured to use 'conda activate'.\n",
      "To initialize your shell, run\n",
      "\n",
      "    $ conda init <SHELL_NAME>\n",
      "\n",
      "Currently supported shells are:\n",
      "  - bash\n",
      "  - fish\n",
      "  - tcsh\n",
      "  - xonsh\n",
      "  - zsh\n",
      "  - powershell\n",
      "\n",
      "See 'conda init --help' for more information and options.\n",
      "\n",
      "IMPORTANT: You may need to close and restart your shell after running 'conda init'.\n",
      "\n",
      "\n",
      "2023-07-08 16:01:17,364 - __main__ - WARNING - Argument --ncore_per_instance is deprecated by --ncores-per-instance.\n",
      "2023-07-08 16:01:17,364 - __main__ - WARNING - Argument --log_path is deprecated by --log-dir.\n",
      "2023-07-08 16:01:17,365 - __main__ - WARNING - Neither of ['tcmalloc', 'jemalloc'] memory allocator is found in ['/home/sdp/anaconda3/envs/a_webinar_TP/lib/', '/home/sdp/.local/lib/', '/usr/local/lib/', '/usr/local/lib64/', '/usr/lib/', '/usr/lib64/', '/usr/lib/x86_64-linux-gnu/'].\n",
      "2023-07-08 16:01:17,366 - __main__ - INFO - Use 'default' memory allocator. This may drop the performance.\n",
      "2023-07-08 16:01:17,366 - __main__ - INFO - Use 'auto' => 'intel' OpenMP runtime.\n",
      "2023-07-08 16:01:17,396 - __main__ - INFO - Use 'auto' => 'taskset' multi-task manager.\n",
      "2023-07-08 16:01:17,397 - __main__ - INFO - env: Untouched preset environment variables are not displayed.\n",
      "2023-07-08 16:01:17,397 - __main__ - INFO - env: LD_PRELOAD=/home/sdp/anaconda3/envs/a_webinar_TP/lib/libiomp5.so\n",
      "2023-07-08 16:01:17,397 - __main__ - INFO - env: KMP_AFFINITY=granularity=fine,compact,1,0\n",
      "2023-07-08 16:01:17,397 - __main__ - INFO - env: KMP_BLOCKTIME=1\n",
      "2023-07-08 16:01:17,397 - __main__ - INFO - env: OMP_NUM_THREADS=3\n",
      "2023-07-08 16:01:17,398 - __main__ - INFO - cmd: taskset -c 0-2 /home/sdp/anaconda3/envs/a_webinar_TP/bin/python -u ./scripts/resnet50.py 2>&1 | tee ./logs/run_20230708160117_instance_0_cores_0-2.log\n",
      "/home/sdp/anaconda3/envs/a_webinar_TP/lib/python3.9/site-packages/torchvision/models/_utils.py:208: UserWarning: The parameter 'pretrained' is deprecated since 0.13 and may be removed in the future, please use 'weights' instead.\n",
      "  warnings.warn(\n",
      "/home/sdp/anaconda3/envs/a_webinar_TP/lib/python3.9/site-packages/torchvision/models/_utils.py:223: UserWarning: Arguments other than a weight enum or `None` for 'weights' are deprecated since 0.13 and may be removed in the future. The current behavior is equivalent to passing `weights=None`.\n",
      "  warnings.warn(msg)\n",
      "Inference took 44.24 ms in average\n"
     ]
    }
   ],
   "source": [
    "!source /opt/intel/oneapi/setvars.sh;conda activate pytorch;python -m intel_extension_for_pytorch.cpu.launch --ninstances 1 --ncore_per_instance 3 --log_path ./logs ./scripts/resnet50.py"
   ]
  },
  {
   "cell_type": "markdown",
   "id": "6fa2dd27-cf4f-4e1d-808a-271c35cd508b",
   "metadata": {},
   "source": [
    "Similarly by increasing the number of cores, we can see an improvement in the inference time as shown below "
   ]
  },
  {
   "cell_type": "code",
   "execution_count": 30,
   "id": "6c522568-db0f-4438-ae1f-66623e07c96f",
   "metadata": {},
   "outputs": [
    {
     "name": "stdout",
     "output_type": "stream",
     "text": [
      " \n",
      ":: WARNING: setvars.sh has already been run. Skipping re-execution.\n",
      "   To force a re-execution of setvars.sh, use the '--force' option.\n",
      "   Using '--force' can result in excessive use of your environment variables.\n",
      "  \n",
      "usage: source setvars.sh [--force] [--config=file] [--help] [...]\n",
      "  --force        Force setvars.sh to re-run, doing so may overload environment.\n",
      "  --config=file  Customize env vars using a setvars.sh configuration file.\n",
      "  --help         Display this help message and exit.\n",
      "  ...            Additional args are passed to individual env/vars.sh scripts\n",
      "                 and should follow this script's arguments.\n",
      "  \n",
      "  Some POSIX shells do not accept command-line options. In that case, you can pass\n",
      "  command-line options via the SETVARS_ARGS environment variable. For example:\n",
      "  \n",
      "  $ SETVARS_ARGS=\"ia32 --config=config.txt\" ; export SETVARS_ARGS\n",
      "  $ . path/to/setvars.sh\n",
      "  \n",
      "  The SETVARS_ARGS environment variable is cleared on exiting setvars.sh.\n",
      "  \n",
      "\n",
      "CommandNotFoundError: Your shell has not been properly configured to use 'conda activate'.\n",
      "To initialize your shell, run\n",
      "\n",
      "    $ conda init <SHELL_NAME>\n",
      "\n",
      "Currently supported shells are:\n",
      "  - bash\n",
      "  - fish\n",
      "  - tcsh\n",
      "  - xonsh\n",
      "  - zsh\n",
      "  - powershell\n",
      "\n",
      "See 'conda init --help' for more information and options.\n",
      "\n",
      "IMPORTANT: You may need to close and restart your shell after running 'conda init'.\n",
      "\n",
      "\n",
      "2023-07-08 16:01:32,527 - __main__ - WARNING - Argument --ncore_per_instance is deprecated by --ncores-per-instance.\n",
      "2023-07-08 16:01:32,527 - __main__ - WARNING - Argument --log_path is deprecated by --log-dir.\n",
      "2023-07-08 16:01:32,528 - __main__ - WARNING - Neither of ['tcmalloc', 'jemalloc'] memory allocator is found in ['/home/sdp/anaconda3/envs/a_webinar_TP/lib/', '/home/sdp/.local/lib/', '/usr/local/lib/', '/usr/local/lib64/', '/usr/lib/', '/usr/lib64/', '/usr/lib/x86_64-linux-gnu/'].\n",
      "2023-07-08 16:01:32,528 - __main__ - INFO - Use 'default' memory allocator. This may drop the performance.\n",
      "2023-07-08 16:01:32,528 - __main__ - INFO - Use 'auto' => 'intel' OpenMP runtime.\n",
      "2023-07-08 16:01:32,550 - __main__ - INFO - Use 'auto' => 'taskset' multi-task manager.\n",
      "2023-07-08 16:01:32,550 - __main__ - INFO - env: Untouched preset environment variables are not displayed.\n",
      "2023-07-08 16:01:32,550 - __main__ - INFO - env: LD_PRELOAD=/home/sdp/anaconda3/envs/a_webinar_TP/lib/libiomp5.so\n",
      "2023-07-08 16:01:32,550 - __main__ - INFO - env: KMP_AFFINITY=granularity=fine,compact,1,0\n",
      "2023-07-08 16:01:32,550 - __main__ - INFO - env: KMP_BLOCKTIME=1\n",
      "2023-07-08 16:01:32,550 - __main__ - INFO - env: OMP_NUM_THREADS=6\n",
      "2023-07-08 16:01:32,550 - __main__ - INFO - cmd: taskset -c 0-5 /home/sdp/anaconda3/envs/a_webinar_TP/bin/python -u ./scripts/resnet50.py 2>&1 | tee ./logs/run_20230708160132_instance_0_cores_0-5.log\n",
      "/home/sdp/anaconda3/envs/a_webinar_TP/lib/python3.9/site-packages/torchvision/models/_utils.py:208: UserWarning: The parameter 'pretrained' is deprecated since 0.13 and may be removed in the future, please use 'weights' instead.\n",
      "  warnings.warn(\n",
      "/home/sdp/anaconda3/envs/a_webinar_TP/lib/python3.9/site-packages/torchvision/models/_utils.py:223: UserWarning: Arguments other than a weight enum or `None` for 'weights' are deprecated since 0.13 and may be removed in the future. The current behavior is equivalent to passing `weights=None`.\n",
      "  warnings.warn(msg)\n",
      "Inference took 39.16 ms in average\n"
     ]
    }
   ],
   "source": [
    "!source /opt/intel/oneapi/setvars.sh;conda activate pytorch;python -m intel_extension_for_pytorch.cpu.launch --ninstances 1 --ncore_per_instance 6 --log_path ./logs ./scripts/resnet50.py"
   ]
  },
  {
   "cell_type": "markdown",
   "id": "a3a00650-d15f-4aa7-b526-a21c6823d50a",
   "metadata": {},
   "source": [
    "We saw a small example usage of the launch script module. This [documentation](https://intel.github.io/intel-extension-for-pytorch/cpu/1.12.100+cpu/tutorials/performance_tuning/launch_script.html) provides many more examples to use the launch script. As mentioned earlier, each deep learning topology can benefit from custom tuning to achieve the best performance on top of the optimizations we have discussed so far."
   ]
  },
  {
   "cell_type": "code",
   "execution_count": null,
   "id": "d67a1343",
   "metadata": {},
   "outputs": [],
   "source": []
  }
 ],
 "metadata": {
  "kernelspec": {
   "display_name": "Python 3 (ipykernel)",
   "language": "python",
   "name": "python3"
  },
  "language_info": {
   "codemirror_mode": {
    "name": "ipython",
    "version": 3
   },
   "file_extension": ".py",
   "mimetype": "text/x-python",
   "name": "python",
   "nbconvert_exporter": "python",
   "pygments_lexer": "ipython3",
   "version": "3.9.17"
  },
  "nbTranslate": {
   "displayLangs": [
    "*"
   ],
   "hotkey": "alt-t",
   "langInMainMenu": true,
   "sourceLang": "en",
   "targetLang": "fr",
   "useGoogleTranslate": true
  },
  "toc": {
   "base_numbering": 1,
   "nav_menu": {},
   "number_sections": true,
   "sideBar": true,
   "skip_h1_title": false,
   "title_cell": "Table of Contents",
   "title_sidebar": "Contents",
   "toc_cell": false,
   "toc_position": {},
   "toc_section_display": true,
   "toc_window_display": false
  }
 },
 "nbformat": 4,
 "nbformat_minor": 5
}
