{
 "cells": [
  {
   "cell_type": "markdown",
   "id": "75f9200e-7830-4ee5-8637-e67b5df57eac",
   "metadata": {},
   "source": [
    "# Intel PyTorch GPU Training and Inference with AMP"
   ]
  },
  {
   "cell_type": "markdown",
   "id": "48eb565f-ef03-40cb-9182-5b2b752331e8",
   "metadata": {},
   "source": [
    "This code sample will train a ResNet50 model using the CIFAR10 dataset while using Intel® Extension for PyTorch*. The model is trained using FP32 by default but can also be trained with AMP BF16 precision by passing BF16 parameter in the Train function. Then the same trained model is taken and inference with FP32 and AMP BF16 is done and latency is compared to see the performance improvement with the use of Intel® Xe Matrix Extensions(XMX) for BF16. XMX is supported on BF16 and INT8 data types on Intel discrete GPUs."
   ]
  },
  {
   "cell_type": "markdown",
   "id": "675a0285-162b-4435-96cb-1d9ab2bbfe8a",
   "metadata": {},
   "source": [
    "## Environment Setup"
   ]
  },
  {
   "cell_type": "markdown",
   "id": "751acd58-3cc0-42c3-8f59-17136a1518b7",
   "metadata": {},
   "source": [
    "Ensure the PyTorch kernel is activated before running this notebook."
   ]
  },
  {
   "cell_type": "markdown",
   "id": "4e41ce52-c94c-4bdf-a528-0e0200fd5501",
   "metadata": {},
   "source": [
    "## Imports, Dataset, Hyperparameters"
   ]
  },
  {
   "cell_type": "code",
   "execution_count": 1,
   "id": "1e4eedf0-5c7c-49d3-be15-f46b4988d9ff",
   "metadata": {},
   "outputs": [
    {
     "name": "stderr",
     "output_type": "stream",
     "text": [
      "/home/gta/miniconda3/envs/ipex-113/lib/python3.9/site-packages/tqdm/auto.py:21: TqdmWarning: IProgress not found. Please update jupyter and ipywidgets. See https://ipywidgets.readthedocs.io/en/stable/user_install.html\n",
      "  from .autonotebook import tqdm as notebook_tqdm\n",
      "/home/gta/miniconda3/envs/ipex-113/lib/python3.9/site-packages/torchvision/io/image.py:13: UserWarning: Failed to load image Python extension: \n",
      "  warn(f\"Failed to load image Python extension: {e}\")\n"
     ]
    }
   ],
   "source": [
    "import os\n",
    "from time import time\n",
    "import numpy as np\n",
    "import matplotlib.pyplot as plt\n",
    "import torch\n",
    "import torchvision\n",
    "import intel_extension_for_pytorch as ipex\n",
    "from tqdm import tqdm"
   ]
  },
  {
   "cell_type": "code",
   "execution_count": 2,
   "id": "17246f67-0059-4b5f-afe8-a105d767b139",
   "metadata": {},
   "outputs": [],
   "source": [
    "# Hyperparameters and constants\n",
    "LR = 0.01\n",
    "MOMENTUM = 0.9\n",
    "DATA = 'datasets/cifar10/'\n",
    "epochs=1\n",
    "batch_size=128"
   ]
  },
  {
   "cell_type": "markdown",
   "id": "fd146688",
   "metadata": {},
   "source": [
    "### Check for env setup"
   ]
  },
  {
   "cell_type": "code",
   "execution_count": 3,
   "id": "2917da44",
   "metadata": {},
   "outputs": [
    {
     "data": {
      "text/plain": [
       "True"
      ]
     },
     "execution_count": 3,
     "metadata": {},
     "output_type": "execute_result"
    }
   ],
   "source": [
    "torch.xpu.is_available()"
   ]
  },
  {
   "cell_type": "code",
   "execution_count": 4,
   "id": "2e883a39",
   "metadata": {},
   "outputs": [
    {
     "name": "stdout",
     "output_type": "stream",
     "text": [
      "IPEX_XPU is present and Intel GPU is available to use for PyTorch\n"
     ]
    }
   ],
   "source": [
    "try:\n",
    "  device = \"xpu\" if torch.xpu.is_available() else \"cpu\" \n",
    "  \n",
    "except:\n",
    "  device = \"cpu\"  \n",
    "\n",
    "if device == \"xpu\": # Intel dGPU is recognized as device type xpu\n",
    "  print(\"IPEX_XPU is present and Intel GPU is available to use for PyTorch\")\n",
    "  device = \"gpu\"\n",
    "else: \n",
    "  print(\"using CPU device for PyTorch\")\n"
   ]
  },
  {
   "cell_type": "markdown",
   "id": "5ab47ca1-d8fd-4e69-bca6-cb29dba6596b",
   "metadata": {},
   "source": [
    "## Loading the dataset\n",
    "The CIFAR10 dataset is used for this sample. Dataset is being downloaded from built-in datasets available in the torchvision.datasets module. Batch size will be set to 128."
   ]
  },
  {
   "cell_type": "code",
   "execution_count": 5,
   "id": "0c3d9563-e40e-48b4-a311-a71a762b5b58",
   "metadata": {},
   "outputs": [
    {
     "name": "stdout",
     "output_type": "stream",
     "text": [
      "Files already downloaded and verified\n",
      "Files already downloaded and verified\n"
     ]
    }
   ],
   "source": [
    "#Dataloader operations\n",
    "transform = torchvision.transforms.Compose([\n",
    "torchvision.transforms.Resize((224, 224)),\n",
    "torchvision.transforms.ToTensor(),\n",
    "torchvision.transforms.Normalize((0.5, 0.5, 0.5), (0.5, 0.5, 0.5))\n",
    "])\n",
    "train_dataset = torchvision.datasets.CIFAR10(\n",
    "        root=DATA,\n",
    "        train = True,\n",
    "        transform=transform,\n",
    "        download=True,\n",
    ")\n",
    "train_loader = torch.utils.data.DataLoader(\n",
    "        dataset=train_dataset,\n",
    "        batch_size=batch_size\n",
    ")\n",
    "\n",
    "test_dataset = torchvision.datasets.CIFAR10(root=DATA, train = False,\n",
    "                                       download=True, transform=transform)\n",
    "test_loader = torch.utils.data.DataLoader(test_dataset, batch_size=batch_size )\n"
   ]
  },
  {
   "cell_type": "markdown",
   "id": "6ccd66ee-aac5-4a60-8f66-417612d4d3af",
   "metadata": {},
   "source": [
    "## Training the Model\n",
    "The function below will train the ResNet50 model based on whether it should use CPU or Intel dGPU, and whether to use FP32 or BF16 data type. To use Intel dGPU, we need to transfer model and data to xpu device using `to(\"xpu\")`.To use BF16 in operations on CPU, use the `torch.cpu.amp.autocast()` function to perform forward and backward propagation.\n",
    "\n",
    "For Intel dGPU, `torch.xpu.amp` provides convenience for auto data type conversion at runtime, allowing deep learning workloads to benefit from lower-precision floating point data types like `torch.float16` or `torch.bfloat16`, which offer lighter calculation workload and smaller memory usage. However, lower-precision data types sacrifice accuracy for performance. The Auto Mixed Precision (AMP) feature automates data type conversions for operators, allowing for a trade-off between accuracy and performance. `torch.xpu.amp.autocast` is a context manager that enables scopes of the script to run with mixed precision, where operations are performed in a data type chosen by the autocast class to improve performance while maintaining accuracy."
   ]
  },
  {
   "cell_type": "code",
   "execution_count": 6,
   "id": "8b8e21c9-aaa5-4f75-b00a-0d875cc0bfba",
   "metadata": {},
   "outputs": [],
   "source": [
    "\"\"\"\n",
    "Function to run a test case\n",
    "\"\"\"\n",
    "def trainModel(train_loader, modelName=\"myModel\", device=\"cpu\", dataType=\"fp32\"):\n",
    "    \"\"\"\n",
    "    Input parameters\n",
    "        train_loader: a torch DataLoader object containing the training data with images and labels\n",
    "        modelName: a string representing the name of the model\n",
    "        device: the device to use - cpu or gpu\n",
    "        dataType: the data type for model parameters, supported values - fp32, bf16\n",
    "    Return value\n",
    "        training_time: the time in seconds it takes to train the model\n",
    "    \"\"\"\n",
    "\n",
    "    # Initialize the model and add a fully connected layer for finetuning the model on CIFAR dataset(with 10 classes). Originally, the ResNet50 is trained with ImageNet dataset(1000 classes)   \n",
    "    model = torchvision.models.resnet50(pretrained=True)\n",
    "    model.fc = torch.nn.Linear(2048,10)\n",
    "    lin_layer = model.fc\n",
    "    new_layer = torch.nn.Sequential(\n",
    "        lin_layer,\n",
    "        torch.nn.Softmax(dim=1)\n",
    "    )\n",
    "    model.fc = new_layer\n",
    "\n",
    "    #Define loss function and optimization methodology\n",
    "    criterion = torch.nn.CrossEntropyLoss()\n",
    "    optimizer = torch.optim.SGD(model.parameters(), lr=LR, momentum=MOMENTUM)\n",
    "    model.train()\n",
    "\n",
    "    #export model and criterian to XPU device. GPU specific code\n",
    "    if device == \"gpu\":\n",
    "        model = model.to(\"xpu:0\") ## if we have two Intel dGPU device, we can specify xpu:0 or xpu:1\n",
    "        criterion = criterion.to(\"xpu:0\") \n",
    "\n",
    "    #Optimize with BF16 or FP32(default) . BF16 specific code\n",
    "    if \"bf16\" == dataType:\n",
    "        model, optimizer = ipex.optimize(model, optimizer=optimizer, dtype=torch.bfloat16)\n",
    "    else:\n",
    "        model, optimizer = ipex.optimize(model, optimizer=optimizer, dtype=torch.float32)\n",
    "\n",
    "    #Train the model\n",
    "    num_batches = len(train_loader) * epochs\n",
    "    \n",
    "\n",
    "    for i in range(epochs):\n",
    "        running_loss = 0.0\n",
    "\n",
    "        for batch_idx, (data, target) in enumerate(train_loader):\n",
    "            optimizer.zero_grad()\n",
    "            # export data to XPU device. GPU specific code\n",
    "            if device == \"gpu\":\n",
    "                data = data.to(\"xpu:0\")\n",
    "                target = target.to(\"xpu:0\")\n",
    "\n",
    "            # Apply Auto-mixed precision(BF16)  \n",
    "            if \"bf16\" == dataType:\n",
    "                with torch.xpu.amp.autocast(enabled=True, dtype=torch.bfloat16):\n",
    "\n",
    "                    output = model(data)\n",
    "                    loss = criterion(output, target)\n",
    "                    loss.backward()\n",
    "                    optimizer.step()\n",
    "                    running_loss += loss.item()\n",
    "\n",
    "            else:\n",
    "\n",
    "                output = model(data)\n",
    "                loss = criterion(output, target)\n",
    "                loss.backward()\n",
    "                optimizer.step()\n",
    "                running_loss += loss.item()\n",
    "\n",
    "\n",
    "            # Showing Average loss after 50 batches\n",
    "            if 0 == (batch_idx+1) % 50:\n",
    "                print(\"Batch %d/%d complete\" %(batch_idx+1, num_batches))\n",
    "                print(f' average loss: {running_loss / 50:.3f}')\n",
    "                running_loss = 0.0\n",
    "\n",
    "    # Save a checkpoint of the trained model\n",
    "    torch.save({\n",
    "        'model_state_dict': model.state_dict(),\n",
    "        'optimizer_state_dict': optimizer.state_dict(),\n",
    "        }, 'checkpoint_%s.pth' %modelName)\n",
    "    print(f'\\n Training finished and model is saved as checkpoint_{modelName}.pth')\n",
    "    return None\n"
   ]
  },
  {
   "cell_type": "markdown",
   "id": "4d5c2307-0547-4e81-bbcc-25fc09a830a0",
   "metadata": {},
   "source": [
    "### Model Training with default FP32 precision(Recommended for inference comparison)"
   ]
  },
  {
   "cell_type": "code",
   "execution_count": 7,
   "id": "9680926b",
   "metadata": {},
   "outputs": [
    {
     "name": "stdout",
     "output_type": "stream",
     "text": [
      "Training model with FP32 on GPU, will be saved as checkpoint_gpu_rn50.pth\n"
     ]
    },
    {
     "name": "stderr",
     "output_type": "stream",
     "text": [
      "/home/gta/miniconda3/envs/ipex-113/lib/python3.9/site-packages/torchvision/models/_utils.py:208: UserWarning: The parameter 'pretrained' is deprecated since 0.13 and may be removed in the future, please use 'weights' instead.\n",
      "  warnings.warn(\n",
      "/home/gta/miniconda3/envs/ipex-113/lib/python3.9/site-packages/torchvision/models/_utils.py:223: UserWarning: Arguments other than a weight enum or `None` for 'weights' are deprecated since 0.13 and may be removed in the future. The current behavior is equivalent to passing `weights=ResNet50_Weights.IMAGENET1K_V1`. You can also use `weights=ResNet50_Weights.DEFAULT` to get the most up-to-date weights.\n",
      "  warnings.warn(msg)\n",
      "/home/gta/miniconda3/envs/ipex-113/lib/python3.9/site-packages/intel_extension_for_pytorch/frontend.py:484: UserWarning: Split Master Weight feature is not supported on XPU for now, disabled.\n",
      "  warnings.warn(\"Split Master Weight feature is not supported on XPU for now, disabled.\")\n",
      "/home/gta/miniconda3/envs/ipex-113/lib/python3.9/site-packages/intel_extension_for_pytorch/frontend.py:494: UserWarning: To reduce device memory usage on XPU, optimization are done inplace, setting the inplace argument to True.\n",
      "  warnings.warn(\n",
      "/home/gta/miniconda3/envs/ipex-113/lib/python3.9/site-packages/intel_extension_for_pytorch/frontend.py:500: UserWarning: Weight Prepack and Sample Input are both disabled on XPU. The Onednn Layout is automatically applied.\n",
      "  warnings.warn(\n"
     ]
    },
    {
     "name": "stdout",
     "output_type": "stream",
     "text": [
      "Batch 50/391 complete\n",
      " average loss: 2.151\n",
      "Batch 100/391 complete\n",
      " average loss: 1.786\n",
      "Batch 150/391 complete\n",
      " average loss: 1.594\n",
      "Batch 200/391 complete\n",
      " average loss: 1.558\n",
      "Batch 250/391 complete\n",
      " average loss: 1.543\n",
      "Batch 300/391 complete\n",
      " average loss: 1.538\n",
      "Batch 350/391 complete\n",
      " average loss: 1.535\n",
      "\n",
      " Training finished and model is saved as checkpoint_gpu_rn50.pth\n"
     ]
    }
   ],
   "source": [
    "#Model Training\n",
    "print(\"Training model with FP32 on GPU, will be saved as checkpoint_gpu_rn50.pth\")\n",
    "trainModel(train_loader, modelName=\"gpu_rn50\", device=\"gpu\", dataType=\"fp32\")"
   ]
  },
  {
   "cell_type": "markdown",
   "id": "0d6d8fb4-983b-417f-88c3-dc2747de3d4a",
   "metadata": {},
   "source": [
    "### Model Training with default AMP BF16(Optional) "
   ]
  },
  {
   "cell_type": "code",
   "execution_count": 8,
   "id": "1ff86b79-9bc8-4e6e-8d43-b2cfa1eb500f",
   "metadata": {},
   "outputs": [
    {
     "name": "stdout",
     "output_type": "stream",
     "text": [
      "Training model with BF16 on GPU, will be saved as checkpoint_gpu_rn50.pth\n",
      "Batch 50/391 complete\n",
      " average loss: 2.153\n",
      "Batch 100/391 complete\n",
      " average loss: 1.728\n",
      "Batch 150/391 complete\n",
      " average loss: 1.588\n",
      "Batch 200/391 complete\n",
      " average loss: 1.557\n",
      "Batch 250/391 complete\n",
      " average loss: 1.542\n",
      "Batch 300/391 complete\n",
      " average loss: 1.536\n",
      "Batch 350/391 complete\n",
      " average loss: 1.532\n",
      "\n",
      " Training finished and model is saved as checkpoint_gpu_rn50.pth\n"
     ]
    }
   ],
   "source": [
    "#Model Training\n",
    "print(\"Training model with BF16 on GPU, will be saved as checkpoint_gpu_rn50.pth\")\n",
    "trainModel(train_loader, modelName=\"gpu_rn50\", device=\"gpu\", dataType=\"bf16\")"
   ]
  },
  {
   "cell_type": "markdown",
   "id": "12796c74",
   "metadata": {},
   "source": [
    "### Model Training on CPU(Optional, if device is CPU) "
   ]
  },
  {
   "cell_type": "code",
   "execution_count": null,
   "id": "cc95eec3",
   "metadata": {},
   "outputs": [],
   "source": [
    "#Model Training\n",
    "print(\"Training model on CPU, will be saved as checkpoint_cpu_rn50.pth\")\n",
    "trainModel(train_loader, modelName=\"cpu_rn50\", device=\"cpu\", dataType=\"fp32\")"
   ]
  },
  {
   "cell_type": "markdown",
   "id": "76698bac",
   "metadata": {},
   "source": [
    "## FP32 & AMP BF16 Model Evaluation if trained with FP32 precision"
   ]
  },
  {
   "cell_type": "markdown",
   "id": "798f923b",
   "metadata": {},
   "source": [
    "### Load model from saved model file"
   ]
  },
  {
   "cell_type": "code",
   "execution_count": 9,
   "id": "cff1ce45",
   "metadata": {},
   "outputs": [],
   "source": [
    "#Load model structure from torchvision and weights from saved checkpoint file\n",
    "def load_model(cp_file = 'checkpoint_rn50.pth'):\n",
    "    model = torchvision.models.resnet50()\n",
    "    model.fc = torch.nn.Linear(2048,10)\n",
    "    lin_layer = model.fc\n",
    "    new_layer = torch.nn.Sequential(\n",
    "        lin_layer,\n",
    "        torch.nn.Softmax(dim=1)\n",
    "    )\n",
    "    model.fc = new_layer\n",
    "\n",
    "    checkpoint = torch.load(cp_file)\n",
    "    model.load_state_dict(checkpoint['model_state_dict']) \n",
    "    return model\n"
   ]
  },
  {
   "cell_type": "markdown",
   "id": "e2504363-367c-4afd-9e49-b5f3a1af4367",
   "metadata": {},
   "source": [
    "### Applying IPEX optimizations and Converting model to TorchScript(Optional)\n",
    "TorchScript is a way to create serializable and optimizable models from PyTorch code. Any code written in TorchScript can be saved from your Python process and loaded in a process where there is no Python dependency. `torch.jit.trace` and `torch.jit.freeze` is used for converting the model to TorchScript. `torch.jit.trace` will trace a function and return an executable or ScriptFunction that will be optimized using just-in-time compilation. `torch.jit.freeze` will clone executable or ScriptFunction and attempt to inline the cloned module's submodules, parameters, and attributes as constants in the TorchScript IR Graph.\n",
    "\n",
    "Intel® Extension for PyTorch* provides optimizations for both eager mode and graph mode, however, compared to eager mode, graph mode in PyTorch normally yields better performance from optimization techniques such as operation fusion, and Intel® Extension for PyTorch* amplified them with more comprehensive graph optimizations. Therefore we recommended you to take advantage of Intel® Extension for PyTorch* with TorchScript. \n"
   ]
  },
  {
   "cell_type": "code",
   "execution_count": 10,
   "id": "721824ad-4827-4a29-9c98-15ef92d0f541",
   "metadata": {},
   "outputs": [],
   "source": [
    "def ipex_jit_optimize(model, dataType = \"fp32\" , device=\"cpu\"):\n",
    "    model.eval()\n",
    "    if device==\"gpu\":\n",
    "        model = model.to(\"xpu:0\")\n",
    "    if dataType==\"bf16\":\n",
    "        model = ipex.optimize(model, dtype=torch.bfloat16)\n",
    "    else:\n",
    "        model = ipex.optimize(model, dtype = torch.float32)\n",
    "            \n",
    "    with torch.no_grad():\n",
    "        d = torch.rand(1, 3, 224, 224)\n",
    "        if device==\"gpu\": \n",
    "            d = d.to(\"xpu:0\")\n",
    "            \n",
    "        if dataType==\"bf16\": \n",
    "          with torch.xpu.amp.autocast(enabled=True, dtype=torch.bfloat16): \n",
    "            jit_model = torch.jit.trace(model, d) # JIT trace the optimized model\n",
    "            jit_model = torch.jit.freeze(jit_model) # JIT freeze the traced model\n",
    "        else:\n",
    "          jit_model = torch.jit.trace(model, d) # JIT trace the optimized model\n",
    "          jit_model = torch.jit.freeze(jit_model) # JIT freeze the traced model              \n",
    "    return jit_model\n"
   ]
  },
  {
   "cell_type": "markdown",
   "id": "581c85a0-31eb-4c8b-adbf-713c80919b05",
   "metadata": {},
   "source": [
    "### Inference"
   ]
  },
  {
   "cell_type": "code",
   "execution_count": 11,
   "id": "022f7cfe-2c32-40f2-8880-34a8a0ec31d9",
   "metadata": {},
   "outputs": [],
   "source": [
    "def inferModel(model, test_loader, device=\"cpu\" , dataType='fp32'):\n",
    "    correct = 0\n",
    "    total = 0\n",
    "    if device == \"gpu\":\n",
    "        model = model.to(\"xpu:0\")\n",
    "    infer_time = 0\n",
    "\n",
    "    with torch.no_grad():\n",
    "        num_batches = len(test_loader)\n",
    "        batches=0\n",
    "                   \n",
    "        for i, data in tqdm(enumerate(test_loader)):\n",
    "            \n",
    "            # Record time for Inference\n",
    "            torch.xpu.synchronize()\n",
    "            start_time = time()\n",
    "            images, labels = data\n",
    "            if device ==\"gpu\":\n",
    "                images = images.to(\"xpu:0\")\n",
    "                 \n",
    "            outputs = model(images)\n",
    "            outputs = outputs.to(\"cpu\") # Need model outputs back to CPU(Host) again to remove Device(GPU) to Host overhead as all the accuracy related computation is going to happen on CPU\n",
    "            _, predicted = torch.max(outputs.data, 1)\n",
    "            \n",
    "            total += labels.size(0)\n",
    "            correct += (predicted == labels).sum().item()        \n",
    "            \n",
    "            # Record time after finishing batch inference\n",
    "            torch.xpu.synchronize()\n",
    "            end_time = time()      \n",
    "\n",
    "            if i>=3 and i<=num_batches-3: # Ignoring a few start and end batches for consistent and accurate latency measure \n",
    "                infer_time += (end_time-start_time)\n",
    "                batches += 1\n",
    "            #Skip last few batches     \n",
    "            if i == num_batches - 3:\n",
    "                break    \n",
    "\n",
    "    accuracy = 100 * correct / total\n",
    "    return accuracy, infer_time*1000/(batches*batch_size)\n"
   ]
  },
  {
   "cell_type": "code",
   "execution_count": 12,
   "id": "32e9190d",
   "metadata": {},
   "outputs": [],
   "source": [
    "#Evaluation of different models\n",
    "def Eval_model(cp_file = 'checkpoint_model.pth', dataType = \"fp32\" , device=\"gpu\" ):\n",
    "    model = load_model(cp_file)\n",
    "    model = ipex_jit_optimize(model, dataType , device)\n",
    "    accuracy, latency = inferModel(model, test_loader, device, dataType )\n",
    "    print(f' Model accuracy: {accuracy} and Average Inference latency: {latency} \\n'  )\n",
    "    return accuracy, latency"
   ]
  },
  {
   "cell_type": "markdown",
   "id": "12e13e32",
   "metadata": {},
   "source": [
    "### Accuracy and Inference latency check"
   ]
  },
  {
   "cell_type": "markdown",
   "id": "b7516593",
   "metadata": {},
   "source": [
    "For FP32 model on GPU"
   ]
  },
  {
   "cell_type": "code",
   "execution_count": 13,
   "id": "2c53b7dc",
   "metadata": {},
   "outputs": [
    {
     "name": "stdout",
     "output_type": "stream",
     "text": [
      "Model evaluation with FP32 on GPU\n"
     ]
    },
    {
     "name": "stderr",
     "output_type": "stream",
     "text": [
      "76it [00:16,  4.55it/s]"
     ]
    },
    {
     "name": "stdout",
     "output_type": "stream",
     "text": [
      " Model accuracy: 93.12094155844156 and Average Inference latency: 0.5485470834616069 \n",
      "\n"
     ]
    },
    {
     "name": "stderr",
     "output_type": "stream",
     "text": [
      "\n"
     ]
    }
   ],
   "source": [
    "#For FP32 model on GPU\n",
    "print(\"Model evaluation with FP32 on GPU\")\n",
    "acc_fp32, fp32_avg_latency = Eval_model(cp_file = 'checkpoint_gpu_rn50.pth', dataType = \"fp32\" , device=\"gpu\")"
   ]
  },
  {
   "cell_type": "markdown",
   "id": "87063fd1",
   "metadata": {},
   "source": [
    "For BF16 model on GPU"
   ]
  },
  {
   "cell_type": "code",
   "execution_count": 14,
   "id": "8a59b600",
   "metadata": {},
   "outputs": [
    {
     "name": "stdout",
     "output_type": "stream",
     "text": [
      "Model evaluation with AMP BF16 on GPU\n"
     ]
    },
    {
     "name": "stderr",
     "output_type": "stream",
     "text": [
      "76it [00:11,  6.89it/s]"
     ]
    },
    {
     "name": "stdout",
     "output_type": "stream",
     "text": [
      " Model accuracy: 93.13108766233766 and Average Inference latency: 0.13110522382162712 \n",
      "\n"
     ]
    },
    {
     "name": "stderr",
     "output_type": "stream",
     "text": [
      "\n"
     ]
    }
   ],
   "source": [
    "#For AMP BF16 model on GPU\n",
    "print(\"Model evaluation with AMP BF16 on GPU\")\n",
    "acc_bf16, bf16_avg_latency = Eval_model(cp_file = 'checkpoint_gpu_rn50.pth', dataType = \"bf16\" , device=\"gpu\")"
   ]
  },
  {
   "cell_type": "markdown",
   "id": "cc94b1e0",
   "metadata": {},
   "source": [
    "Model Evaluation on CPU(optional, if trained on CPU)"
   ]
  },
  {
   "cell_type": "code",
   "execution_count": 15,
   "id": "00275e49",
   "metadata": {},
   "outputs": [
    {
     "name": "stdout",
     "output_type": "stream",
     "text": [
      "Model evaluation with FP32 on CPU\n"
     ]
    },
    {
     "ename": "FileNotFoundError",
     "evalue": "[Errno 2] No such file or directory: 'checkpoint_cpu_rn50.pth'",
     "output_type": "error",
     "traceback": [
      "\u001b[0;31m---------------------------------------------------------------------------\u001b[0m",
      "\u001b[0;31mFileNotFoundError\u001b[0m                         Traceback (most recent call last)",
      "Cell \u001b[0;32mIn[15], line 3\u001b[0m\n\u001b[1;32m      1\u001b[0m \u001b[38;5;66;03m#For model inference on CPU\u001b[39;00m\n\u001b[1;32m      2\u001b[0m \u001b[38;5;28mprint\u001b[39m(\u001b[38;5;124m\"\u001b[39m\u001b[38;5;124mModel evaluation with FP32 on CPU\u001b[39m\u001b[38;5;124m\"\u001b[39m)\n\u001b[0;32m----> 3\u001b[0m \u001b[43mEval_model\u001b[49m\u001b[43m(\u001b[49m\u001b[43mcp_file\u001b[49m\u001b[43m \u001b[49m\u001b[38;5;241;43m=\u001b[39;49m\u001b[43m \u001b[49m\u001b[38;5;124;43m'\u001b[39;49m\u001b[38;5;124;43mcheckpoint_cpu_rn50.pth\u001b[39;49m\u001b[38;5;124;43m'\u001b[39;49m\u001b[43m,\u001b[49m\u001b[43m \u001b[49m\u001b[43mdataType\u001b[49m\u001b[43m \u001b[49m\u001b[38;5;241;43m=\u001b[39;49m\u001b[43m \u001b[49m\u001b[38;5;124;43m\"\u001b[39;49m\u001b[38;5;124;43mfp32\u001b[39;49m\u001b[38;5;124;43m\"\u001b[39;49m\u001b[43m \u001b[49m\u001b[43m,\u001b[49m\u001b[43m \u001b[49m\u001b[43mdevice\u001b[49m\u001b[38;5;241;43m=\u001b[39;49m\u001b[38;5;124;43m\"\u001b[39;49m\u001b[38;5;124;43mcpu\u001b[39;49m\u001b[38;5;124;43m\"\u001b[39;49m\u001b[43m)\u001b[49m\n",
      "Cell \u001b[0;32mIn[12], line 3\u001b[0m, in \u001b[0;36mEval_model\u001b[0;34m(cp_file, dataType, device)\u001b[0m\n\u001b[1;32m      2\u001b[0m \u001b[38;5;28;01mdef\u001b[39;00m \u001b[38;5;21mEval_model\u001b[39m(cp_file \u001b[38;5;241m=\u001b[39m \u001b[38;5;124m'\u001b[39m\u001b[38;5;124mcheckpoint_model.pth\u001b[39m\u001b[38;5;124m'\u001b[39m, dataType \u001b[38;5;241m=\u001b[39m \u001b[38;5;124m\"\u001b[39m\u001b[38;5;124mfp32\u001b[39m\u001b[38;5;124m\"\u001b[39m , device\u001b[38;5;241m=\u001b[39m\u001b[38;5;124m\"\u001b[39m\u001b[38;5;124mgpu\u001b[39m\u001b[38;5;124m\"\u001b[39m ):\n\u001b[0;32m----> 3\u001b[0m     model \u001b[38;5;241m=\u001b[39m \u001b[43mload_model\u001b[49m\u001b[43m(\u001b[49m\u001b[43mcp_file\u001b[49m\u001b[43m)\u001b[49m\n\u001b[1;32m      4\u001b[0m     model \u001b[38;5;241m=\u001b[39m ipex_jit_optimize(model, dataType , device)\n\u001b[1;32m      5\u001b[0m     accuracy, latency \u001b[38;5;241m=\u001b[39m inferModel(model, test_loader, device, dataType )\n",
      "Cell \u001b[0;32mIn[9], line 12\u001b[0m, in \u001b[0;36mload_model\u001b[0;34m(cp_file)\u001b[0m\n\u001b[1;32m      6\u001b[0m new_layer \u001b[38;5;241m=\u001b[39m torch\u001b[38;5;241m.\u001b[39mnn\u001b[38;5;241m.\u001b[39mSequential(\n\u001b[1;32m      7\u001b[0m     lin_layer,\n\u001b[1;32m      8\u001b[0m     torch\u001b[38;5;241m.\u001b[39mnn\u001b[38;5;241m.\u001b[39mSoftmax(dim\u001b[38;5;241m=\u001b[39m\u001b[38;5;241m1\u001b[39m)\n\u001b[1;32m      9\u001b[0m )\n\u001b[1;32m     10\u001b[0m model\u001b[38;5;241m.\u001b[39mfc \u001b[38;5;241m=\u001b[39m new_layer\n\u001b[0;32m---> 12\u001b[0m checkpoint \u001b[38;5;241m=\u001b[39m \u001b[43mtorch\u001b[49m\u001b[38;5;241;43m.\u001b[39;49m\u001b[43mload\u001b[49m\u001b[43m(\u001b[49m\u001b[43mcp_file\u001b[49m\u001b[43m)\u001b[49m\n\u001b[1;32m     13\u001b[0m model\u001b[38;5;241m.\u001b[39mload_state_dict(checkpoint[\u001b[38;5;124m'\u001b[39m\u001b[38;5;124mmodel_state_dict\u001b[39m\u001b[38;5;124m'\u001b[39m]) \n\u001b[1;32m     14\u001b[0m \u001b[38;5;28;01mreturn\u001b[39;00m model\n",
      "File \u001b[0;32m~/miniconda3/envs/ipex-113/lib/python3.9/site-packages/torch/serialization.py:771\u001b[0m, in \u001b[0;36mload\u001b[0;34m(f, map_location, pickle_module, weights_only, **pickle_load_args)\u001b[0m\n\u001b[1;32m    768\u001b[0m \u001b[38;5;28;01mif\u001b[39;00m \u001b[38;5;124m'\u001b[39m\u001b[38;5;124mencoding\u001b[39m\u001b[38;5;124m'\u001b[39m \u001b[38;5;129;01mnot\u001b[39;00m \u001b[38;5;129;01min\u001b[39;00m pickle_load_args\u001b[38;5;241m.\u001b[39mkeys():\n\u001b[1;32m    769\u001b[0m     pickle_load_args[\u001b[38;5;124m'\u001b[39m\u001b[38;5;124mencoding\u001b[39m\u001b[38;5;124m'\u001b[39m] \u001b[38;5;241m=\u001b[39m \u001b[38;5;124m'\u001b[39m\u001b[38;5;124mutf-8\u001b[39m\u001b[38;5;124m'\u001b[39m\n\u001b[0;32m--> 771\u001b[0m \u001b[38;5;28;01mwith\u001b[39;00m \u001b[43m_open_file_like\u001b[49m\u001b[43m(\u001b[49m\u001b[43mf\u001b[49m\u001b[43m,\u001b[49m\u001b[43m \u001b[49m\u001b[38;5;124;43m'\u001b[39;49m\u001b[38;5;124;43mrb\u001b[39;49m\u001b[38;5;124;43m'\u001b[39;49m\u001b[43m)\u001b[49m \u001b[38;5;28;01mas\u001b[39;00m opened_file:\n\u001b[1;32m    772\u001b[0m     \u001b[38;5;28;01mif\u001b[39;00m _is_zipfile(opened_file):\n\u001b[1;32m    773\u001b[0m         \u001b[38;5;66;03m# The zipfile reader is going to advance the current file position.\u001b[39;00m\n\u001b[1;32m    774\u001b[0m         \u001b[38;5;66;03m# If we want to actually tail call to torch.jit.load, we need to\u001b[39;00m\n\u001b[1;32m    775\u001b[0m         \u001b[38;5;66;03m# reset back to the original position.\u001b[39;00m\n\u001b[1;32m    776\u001b[0m         orig_position \u001b[38;5;241m=\u001b[39m opened_file\u001b[38;5;241m.\u001b[39mtell()\n",
      "File \u001b[0;32m~/miniconda3/envs/ipex-113/lib/python3.9/site-packages/torch/serialization.py:270\u001b[0m, in \u001b[0;36m_open_file_like\u001b[0;34m(name_or_buffer, mode)\u001b[0m\n\u001b[1;32m    268\u001b[0m \u001b[38;5;28;01mdef\u001b[39;00m \u001b[38;5;21m_open_file_like\u001b[39m(name_or_buffer, mode):\n\u001b[1;32m    269\u001b[0m     \u001b[38;5;28;01mif\u001b[39;00m _is_path(name_or_buffer):\n\u001b[0;32m--> 270\u001b[0m         \u001b[38;5;28;01mreturn\u001b[39;00m \u001b[43m_open_file\u001b[49m\u001b[43m(\u001b[49m\u001b[43mname_or_buffer\u001b[49m\u001b[43m,\u001b[49m\u001b[43m \u001b[49m\u001b[43mmode\u001b[49m\u001b[43m)\u001b[49m\n\u001b[1;32m    271\u001b[0m     \u001b[38;5;28;01melse\u001b[39;00m:\n\u001b[1;32m    272\u001b[0m         \u001b[38;5;28;01mif\u001b[39;00m \u001b[38;5;124m'\u001b[39m\u001b[38;5;124mw\u001b[39m\u001b[38;5;124m'\u001b[39m \u001b[38;5;129;01min\u001b[39;00m mode:\n",
      "File \u001b[0;32m~/miniconda3/envs/ipex-113/lib/python3.9/site-packages/torch/serialization.py:251\u001b[0m, in \u001b[0;36m_open_file.__init__\u001b[0;34m(self, name, mode)\u001b[0m\n\u001b[1;32m    250\u001b[0m \u001b[38;5;28;01mdef\u001b[39;00m \u001b[38;5;21m__init__\u001b[39m(\u001b[38;5;28mself\u001b[39m, name, mode):\n\u001b[0;32m--> 251\u001b[0m     \u001b[38;5;28msuper\u001b[39m(_open_file, \u001b[38;5;28mself\u001b[39m)\u001b[38;5;241m.\u001b[39m\u001b[38;5;21m__init__\u001b[39m(\u001b[38;5;28;43mopen\u001b[39;49m\u001b[43m(\u001b[49m\u001b[43mname\u001b[49m\u001b[43m,\u001b[49m\u001b[43m \u001b[49m\u001b[43mmode\u001b[49m\u001b[43m)\u001b[49m)\n",
      "\u001b[0;31mFileNotFoundError\u001b[0m: [Errno 2] No such file or directory: 'checkpoint_cpu_rn50.pth'"
     ]
    }
   ],
   "source": [
    "#For model inference on CPU\n",
    "print(\"Model evaluation with FP32 on CPU\")\n",
    "Eval_model(cp_file = 'checkpoint_cpu_rn50.pth', dataType = \"fp32\" , device=\"cpu\")"
   ]
  },
  {
   "cell_type": "markdown",
   "id": "f1d2e1e7-40db-4e94-9f04-0d812992169a",
   "metadata": {},
   "source": [
    "## Summary of Results for GPU\n",
    "The following cells below will summarize the training times for all three cases and display graphs to show the performance speedup."
   ]
  },
  {
   "cell_type": "code",
   "execution_count": 18,
   "id": "ce3aa054-a36e-47e8-a646-ac939b74776a",
   "metadata": {},
   "outputs": [
    {
     "name": "stdout",
     "output_type": "stream",
     "text": [
      "Summary\n",
      "Inference average latecy for FP32  on GPU is:  0.5485470834616069 \n",
      "Inference average latency for AMP BF16 on GPU is:  0.13110522382162712 \n",
      "Inference with BF16 is 4.18X faster than FP32 on GPU\n"
     ]
    }
   ],
   "source": [
    "#Summary \n",
    "print(\"Summary\")\n",
    "print(f'Inference average latecy for FP32  on GPU is:  {fp32_avg_latency} ')\n",
    "print(f'Inference average latency for AMP BF16 on GPU is:  {bf16_avg_latency} ')\n",
    "\n",
    "speedup_from_amp_bf16 = fp32_avg_latency / bf16_avg_latency\n",
    "print(\"Inference with BF16 is %.2fX faster than FP32 on GPU\" %speedup_from_amp_bf16)"
   ]
  },
  {
   "cell_type": "code",
   "execution_count": 19,
   "id": "69c69b95-3d3f-49c0-82ac-1de5bf16ce69",
   "metadata": {},
   "outputs": [
    {
     "data": {
      "text/plain": [
       "<BarContainer object of 2 artists>"
      ]
     },
     "execution_count": 19,
     "metadata": {},
     "output_type": "execute_result"
    },
    {
     "data": {
      "image/png": "[encoded data removed]",
      "text/plain": [
       "<Figure size 640x480 with 1 Axes>"
      ]
     },
     "metadata": {},
     "output_type": "display_data"
    }
   ],
   "source": [
    "plt.figure()\n",
    "plt.title(\"ResNet50 Inference Latency Comparison\")\n",
    "plt.xlabel(\"Test Case\")\n",
    "plt.ylabel(\"Inference Latency per sample(ms)\")\n",
    "plt.bar([\"FP32 on GPU\", \"AMP BF16 on GPU\"], [fp32_avg_latency, bf16_avg_latency])\n"
   ]
  },
  {
   "cell_type": "code",
   "execution_count": 20,
   "id": "361304df",
   "metadata": {},
   "outputs": [
    {
     "name": "stdout",
     "output_type": "stream",
     "text": [
      "Accuracy drop with AMP BF16 is: -0.010146103896104819\n"
     ]
    },
    {
     "data": {
      "image/png": "[encoded data removed]",
      "text/plain": [
       "<Figure size 640x480 with 1 Axes>"
      ]
     },
     "metadata": {},
     "output_type": "display_data"
    }
   ],
   "source": [
    "plt.figure()\n",
    "plt.title(\"Accuracy Comparison\")\n",
    "plt.xlabel(\"Test Case\")\n",
    "plt.ylabel(\"Accuracy(%)\")\n",
    "plt.bar([\"FP32 on GPU\", \"AMP BF16 on GPU\"], [acc_fp32, acc_bf16])\n",
    "print(f'Accuracy drop with AMP BF16 is: {acc_fp32-acc_bf16}')"
   ]
  },
  {
   "cell_type": "code",
   "execution_count": 21,
   "id": "0990591d-3f4b-40f9-85fc-6b9a7c8e2123",
   "metadata": {},
   "outputs": [
    {
     "data": {
      "text/plain": [
       "<BarContainer object of 2 artists>"
      ]
     },
     "execution_count": 21,
     "metadata": {},
     "output_type": "execute_result"
    },
    {
     "data": {
      "image/png": "[encoded data removed]",
      "text/plain": [
       "<Figure size 640x480 with 1 Axes>"
      ]
     },
     "metadata": {},
     "output_type": "display_data"
    }
   ],
   "source": [
    "speedup_from_bf16_on_gpu = fp32_avg_latency/bf16_avg_latency\n",
    "plt.figure()\n",
    "plt.title(\"GPU AMP BF16 Speedup\")\n",
    "plt.xlabel(\"Test Case\")\n",
    "plt.ylabel(\"SpeedUp\")\n",
    "plt.bar([\"FP32 on GPU\", \"Speed Up from AMP BF16 on GPU\"], [1, speedup_from_bf16_on_gpu])"
   ]
  },
  {
   "cell_type": "code",
   "execution_count": 17,
   "id": "aa0877d6-e045-4091-b5e4-4dfcb6d04f7d",
   "metadata": {},
   "outputs": [
    {
     "name": "stdout",
     "output_type": "stream",
     "text": [
      "[CODE_SAMPLE_COMPLETED_SUCCESFULLY]\n"
     ]
    }
   ],
   "source": [
    "print('[CODE_SAMPLE_COMPLETED_SUCCESFULLY]')"
   ]
  },
  {
   "cell_type": "code",
   "execution_count": null,
   "id": "61c9fc4c-6a08-4b0d-9f6a-51c5dc64de4f",
   "metadata": {},
   "outputs": [],
   "source": []
  },
  {
   "cell_type": "code",
   "execution_count": null,
   "id": "57581eef-4ebd-4bcb-8244-fecca5b7eadd",
   "metadata": {},
   "outputs": [],
   "source": []
  }
 ],
 "metadata": {
  "kernelspec": {
   "display_name": "Python 3 (ipykernel)",
   "language": "python",
   "name": "python3"
  },
  "language_info": {
   "codemirror_mode": {
    "name": "ipython",
    "version": 3
   },
   "file_extension": ".py",
   "mimetype": "text/x-python",
   "name": "python",
   "nbconvert_exporter": "python",
   "pygments_lexer": "ipython3",
   "version": "3.9.18"
  },
  "vscode": {
   "interpreter": {
    "hash": "ed6ae0d06e7bec0fef5f1fb38f177ceea45508ce95c68ed2f49461dd6a888a39"
   }
  }
 },
 "nbformat": 4,
 "nbformat_minor": 5
}
