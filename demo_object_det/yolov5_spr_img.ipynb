{
 "cells": [
  {
   "cell_type": "code",
   "execution_count": 1,
   "metadata": {},
   "outputs": [
    {
     "name": "stderr",
     "output_type": "stream",
     "text": [
      "Using cache found in /home/sdp/.cache/torch/hub/ultralytics_yolov3_master\n",
      "YOLOv3 🚀 2023-2-5 torch 1.13.1 CPU\n",
      "\n",
      "Fusing layers... \n",
      "Model Summary: 261 layers, 61922845 parameters, 0 gradients\n",
      "Adding AutoShape... \n"
     ]
    },
    {
     "name": "stdout",
     "output_type": "stream",
     "text": [
      "0.6392334461212158\n"
     ]
    }
   ],
   "source": [
    "import torch\n",
    "import time\n",
    "# import cv2\n",
    "\n",
    "# model = torch.hub.load('yolov5', 'yolov5n', source= 'local')\n",
    "\n",
    "# cap = cv2.VideoCapture('video.mp4')\n",
    "\n",
    "# while True:\n",
    "#     img = cap.read()[1]\n",
    "#     if img is None:\n",
    "#         break\n",
    "#     result = model(img)\n",
    "#     df = result.pandas().xyxy[0]\n",
    "\n",
    "#     for ind in df.index:\n",
    "#         x1, y1 = int(df['xmin'][ind]), int(df['ymin'][ind])\n",
    "#         x2, y2 = int(df['xmax'][ind]), int(df['ymax'][ind])\n",
    "#         label = df['name'][ind]\n",
    "#         conf = df['confidence'][ind]\n",
    "#         text = label + ' ' + str(conf.round(decimals= 2))\n",
    "#         cv2.rectangle(img, (x1, y1), (x2, y2), (255, 255, 0), 2)\n",
    "#         cv2.putText(img, text, (x1, y1 - 5), cv2.FONT_HERSHEY_PLAIN, 2, (255, 255, 0), 2)\n",
    "\n",
    "#     cv2.imshow('Video',img)\n",
    "#     cv2.waitKey(10)\n",
    "    \n",
    "#     import torch\n",
    "\n",
    "# Model\n",
    "# model = torch.hub.load('ultralytics/yolov5', 'yolov5s')  # or yolov5n - yolov5x6, custom\n",
    "model = torch.hub.load('ultralytics/yolov3', 'yolov3')  # or yolov5n - yolov5x6, custom\n",
    "model.eval()\n",
    "# Images\n",
    "img = 'https://ultralytics.com/images/zidane.jpg'  # or file, Path, PIL, OpenCV, numpy, list\n",
    "results = model(img)\n",
    "test_time_list = []\n",
    "# Inference\n",
    "for i in range(0, 10):\n",
    "\n",
    "    t1 = time.time()\n",
    "    results = model(img)\n",
    "    test_time = time.time() - t1\n",
    "    # Results\n",
    "#     results.show()  # or .show(), .save(), .crop(), .pandas(), etc.\n",
    "    test_time_list.append(test_time)\n",
    "    \n",
    "time_test = sum(test_time_list)/len(test_time_list)\n",
    "print(time_test)\n",
    "\n",
    "\n",
    "    "
   ]
  },
  {
   "cell_type": "code",
   "execution_count": 2,
   "metadata": {},
   "outputs": [
    {
     "name": "stderr",
     "output_type": "stream",
     "text": [
      "/home/sdp/anaconda3/envs/TP/lib/python3.9/site-packages/intel_extension_for_pytorch/frontend.py:396: UserWarning: Conv BatchNorm folding failed during the optimize process.\n",
      "  warnings.warn(\"Conv BatchNorm folding failed during the optimize process.\")\n",
      "/home/sdp/anaconda3/envs/TP/lib/python3.9/site-packages/intel_extension_for_pytorch/frontend.py:401: UserWarning: Linear BatchNorm folding failed during the optimize process.\n",
      "  warnings.warn(\"Linear BatchNorm folding failed during the optimize process.\")\n"
     ]
    },
    {
     "name": "stdout",
     "output_type": "stream",
     "text": [
      "0.5711407661437988\n"
     ]
    }
   ],
   "source": [
    "#with IPEX\n",
    "model.eval()\n",
    "import intel_extension_for_pytorch as ipex\n",
    "model = ipex.optimize(model, dtype=torch.bfloat16)\n",
    "\n",
    "results = model(img)\n",
    "test_time_list = []\n",
    "# Inference\n",
    "for i in range(0, 10):\n",
    "\n",
    "    t1 = time.time()\n",
    "    results = model(img)\n",
    "    test_time = time.time() - t1\n",
    "    # Results\n",
    "#     results.show()  # or .show(), .save(), .crop(), .pandas(), etc.\n",
    "    test_time_list.append(test_time)\n",
    "    \n",
    "time_test_ipex = sum(test_time_list)/len(test_time_list)\n",
    "print(time_test_ipex)"
   ]
  },
  {
   "cell_type": "code",
   "execution_count": 3,
   "metadata": {},
   "outputs": [
    {
     "name": "stdout",
     "output_type": "stream",
     "text": [
      "Performance Speedup Testing:  1.1192222373429266\n",
      "[CODE_SAMPLE_COMPLETED_SUCCESFULLY]\n"
     ]
    },
    {
     "name": "stderr",
     "output_type": "stream",
     "text": [
      "/tmp/ipykernel_1682921/2947774788.py:11: UserWarning: Matplotlib is currently using agg, which is a non-GUI backend, so cannot show the figure.\n",
      "  plt.show()\n"
     ]
    }
   ],
   "source": [
    "#show performance boost\n",
    "import matplotlib.pyplot as plt\n",
    "\n",
    "\n",
    "pred_times = [time_test, time_test_ipex]\n",
    "tick_label = ['IPEX OFF TEST', 'IPEX ON TEST']\n",
    "\n",
    "left = [1,2]\n",
    "plt.bar(left, pred_times, tick_label = tick_label, width = 0.5, color = ['blue', 'red'])\n",
    "plt.xlabel('Test Method'); plt.ylabel('time,s'); plt.title('IPEX Testing Time,s')\n",
    "plt.show()\n",
    "\n",
    "# print(\"Performance Speedup Training: \",(time_train)/(time_train_ipex))\n",
    "print(\"Performance Speedup Testing: \",(time_test)/(time_test_ipex))\n",
    "\n",
    "print('[CODE_SAMPLE_COMPLETED_SUCCESFULLY]')"
   ]
  },
  {
   "cell_type": "code",
   "execution_count": null,
   "metadata": {},
   "outputs": [],
   "source": []
  }
 ],
 "metadata": {
  "kernelspec": {
   "display_name": "Python [conda env:TP] *",
   "language": "python",
   "name": "conda-env-TP-py"
  },
  "language_info": {
   "codemirror_mode": {
    "name": "ipython",
    "version": 3
   },
   "file_extension": ".py",
   "mimetype": "text/x-python",
   "name": "python",
   "nbconvert_exporter": "python",
   "pygments_lexer": "ipython3",
   "version": "3.9.16"
  },
  "vscode": {
   "interpreter": {
    "hash": "b910f8ab486b41e2ac820230d6c9617e1dce71ceae9bb147f59208d9ba84276d"
   }
  }
 },
 "nbformat": 4,
 "nbformat_minor": 2
}
