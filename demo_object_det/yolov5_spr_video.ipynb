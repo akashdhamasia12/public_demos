{
 "cells": [
  {
   "cell_type": "code",
   "execution_count": 5,
   "metadata": {},
   "outputs": [],
   "source": [
    "import torch\n",
    "import cv2\n",
    "from matplotlib import pyplot as plt\n",
    "from base64 import b64encode\n",
    "from IPython.display import HTML\n",
    "\n",
    "def show_rgb_image(image, title=None, conversion=cv2.COLOR_BGR2RGB):\n",
    "\n",
    "    # Converts from one colour space to the other. this is needed as RGB\n",
    "    # is not the default colour space for OpenCV\n",
    "    image = cv2.cvtColor(image, conversion)\n",
    "\n",
    "    # Show the image\n",
    "    plt.imshow(image)\n",
    "\n",
    "    # remove the axis / ticks for a clean looking image\n",
    "    plt.xticks([])\n",
    "    plt.yticks([])\n",
    "\n",
    "    # if a title is provided, show it\n",
    "    if title is not None:\n",
    "        plt.title(title)\n",
    "\n",
    "    plt.show()"
   ]
  },
  {
   "cell_type": "code",
   "execution_count": 6,
   "metadata": {},
   "outputs": [
    {
     "name": "stderr",
     "output_type": "stream",
     "text": [
      "Using cache found in /home/sdp/.cache/torch/hub/ultralytics_yolov5_master\n",
      "YOLOv5 🚀 2023-2-5 Python-3.9.16 torch-1.13.1 CPU\n",
      "\n",
      "Fusing layers... \n",
      "YOLOv5s summary: 213 layers, 7225885 parameters, 0 gradients\n",
      "Adding AutoShape... \n",
      "[mpeg4 @ 0x276a3100] Final thread update failed\n",
      "OpenCV: FFMPEG: tag 0x47504a4d/'MJPG' is not supported with codec id 7 and format 'mp4 / MP4 (MPEG-4 Part 14)'\n",
      "OpenCV: FFMPEG: fallback to use tag 0x7634706d/'mp4v'\n"
     ]
    }
   ],
   "source": [
    "# image = cv2.imread(\"akash.png\")\n",
    "# print(image.shape)\n",
    "# # show_rgb_image(image, 'Original Image')\n",
    "# plt.imshow(image)\n",
    "\n",
    "# # Show video\n",
    "# mp4 = open('road_trafifc.mp4','rb').read()\n",
    "# data_url = \"data:video/mp4;base64,\" + b64encode(mp4).decode()\n",
    "# HTML(\"\"\"\n",
    "# <video width=400 controls>\n",
    "#       <source src=\"%s\" type=\"video/mp4\">\n",
    "# </video>\n",
    "# \"\"\" % data_url)\n",
    "\n",
    "model = torch.hub.load('ultralytics/yolov5', 'yolov5s')  # or yolov5n - yolov5x6, custom\n",
    "\n",
    "cap = cv2.VideoCapture('traffic_video.mp4')\n",
    "\n",
    "save_path = \"hello1.mp4\"\n",
    "fps = cap.get(cv2.CAP_PROP_FPS)\n",
    "w = int(cap.get(cv2.CAP_PROP_FRAME_WIDTH))\n",
    "h = int(cap.get(cv2.CAP_PROP_FRAME_HEIGHT))\n",
    "vid_writer = cv2.VideoWriter(save_path, cv2.VideoWriter_fourcc(*'mp4v'), 10, (w, h))\n",
    "# vid_writer = cv2.VideoWriter(save_path, cv2.VideoWriter_fourcc('M','J','P','G'), 10, (w, h))\n",
    "\n",
    "while True:\n",
    "    img = cap.read()[1]\n",
    "    if img is None:\n",
    "        break\n",
    "    result = model(img)\n",
    "    df = result.pandas().xyxy[0]\n",
    "#     print(result)\n",
    "    \n",
    "\n",
    "    for ind in df.index:\n",
    "        x1, y1 = int(df['xmin'][ind]), int(df['ymin'][ind])\n",
    "        x2, y2 = int(df['xmax'][ind]), int(df['ymax'][ind])\n",
    "        label = df['name'][ind]\n",
    "        conf = df['confidence'][ind]\n",
    "        text = label + ' ' + str(conf.round(decimals= 2))\n",
    "        cv2.rectangle(img, (x1, y1), (x2, y2), (255, 255, 0), 2)\n",
    "        cv2.putText(img, text, (x1, y1 - 5), cv2.FONT_HERSHEY_PLAIN, 2, (255, 255, 0), 2)\n",
    "\n",
    "    # cv2.imshow('Video',img)\n",
    "    # cv2.waitKey(10)        \n",
    "    vid_writer.write(img)\n",
    "\n",
    "vid_writer.release()\n",
    "        \n",
    "        \n",
    "        \n",
    "        \n",
    "        \n",
    "        \n",
    "        \n",
    "#     img = cv2.resize(img, (224,224), interpolation = cv2.INTER_AREA)\n",
    "#     plt.imshow(img)\n",
    "\n",
    "# #     show_rgb_image(img, \"s\")\n",
    "\n",
    "# #     cv2.imwrite(\"akash.png\", img)\n",
    "# #     cv2.waitKey(0)\n",
    "# #     cv2.destroyAllWindows()\n",
    "# #     gray = cv2.cvtColor(img, cv2.COLOR_BGR2GRAY)\n",
    "# # #     fig, (ax2) = plt.subplots(1, 1, figsize=(25,25))\n",
    "# # #     ax2.imshow(img)\n",
    "# #     plt.imshow(gray)\n",
    "# #     plt.title('my picture')\n",
    "# #     plt.show()    \n",
    "# #     break\n",
    "# #     cv2.imshow('Video',img)\n",
    "#     cv2.waitKey(100)"
   ]
  },
  {
   "cell_type": "code",
   "execution_count": null,
   "metadata": {},
   "outputs": [],
   "source": []
  }
 ],
 "metadata": {
  "kernelspec": {
   "display_name": "Python [conda env:TP] *",
   "language": "python",
   "name": "conda-env-TP-py"
  },
  "language_info": {
   "codemirror_mode": {
    "name": "ipython",
    "version": 3
   },
   "file_extension": ".py",
   "mimetype": "text/x-python",
   "name": "python",
   "nbconvert_exporter": "python",
   "pygments_lexer": "ipython3",
   "version": "3.9.16"
  },
  "vscode": {
   "interpreter": {
    "hash": "b910f8ab486b41e2ac820230d6c9617e1dce71ceae9bb147f59208d9ba84276d"
   }
  }
 },
 "nbformat": 4,
 "nbformat_minor": 2
}
