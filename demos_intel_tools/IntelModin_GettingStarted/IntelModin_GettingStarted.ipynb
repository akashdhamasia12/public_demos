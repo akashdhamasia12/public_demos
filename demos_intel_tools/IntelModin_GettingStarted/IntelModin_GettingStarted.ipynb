{
 "cells": [
  {
   "cell_type": "code",
   "execution_count": 2,
   "metadata": {
    "scrolled": true
   },
   "outputs": [],
   "source": [
    "# =============================================================\n",
    "# Copyright © 2020 Intel Corporation\n",
    "# \n",
    "# SPDX-License-Identifier: MIT\n",
    "# ============================================================="
   ]
  },
  {
   "cell_type": "markdown",
   "metadata": {},
   "source": [
    "# Modin Getting Started Example for Distributed Pandas"
   ]
  },
  {
   "cell_type": "markdown",
   "metadata": {},
   "source": [
    "## Importing and Organizing Data"
   ]
  },
  {
   "cell_type": "markdown",
   "metadata": {},
   "source": [
    "In this example we will be generating a **synthetic dataset** and **demonstrating stock Pandas operations running with Modin**.\n",
    "\n",
    "Let's start by **importing** all the necessary packages and modules"
   ]
  },
  {
   "cell_type": "code",
   "execution_count": 3,
   "metadata": {
    "scrolled": true
   },
   "outputs": [],
   "source": [
    "import numpy as np\n",
    "import matplotlib.pyplot as plt\n",
    "import time"
   ]
  },
  {
   "cell_type": "code",
   "execution_count": 4,
   "metadata": {
    "scrolled": true
   },
   "outputs": [],
   "source": [
    "# ****** Do not change the code in this cell! It verifies that the notebook is being run correctly! ******\n",
    "\n",
    "def verify_and_print_times(pandas_time, modin_time):\n",
    "    if modin_time < pandas_time:\n",
    "        print(f\"Modin was {pandas_time / modin_time:.2f}X faster than stock pandas!\")\n",
    "        return\n",
    "    print(\n",
    "        f\"Oops, stock pandas appears to be {modin_time / pandas_time:.2f}X faster than Modin in this case. \"\n",
    "        \"This is unlikely but could happen sometimes on certain machines/environments/datasets. \"\n",
    "        \"One of the most probable reasons is the excessive amount of partitions being assigned to a single worker. \"\n",
    "        \"You may visit Modin's optimization guide in order to learn more about such cases and how to fix them: \"\n",
    "        \"\\nhttps://modin.readthedocs.io/en/latest/usage_guide/optimization_notes/index.html\\n\\n\"\n",
    "        \"But first, verify that you're using the latest Modin version, also, try to use different executions, \"\n",
    "        \"for basic usage we recommend non-experimental 'PandasOnRay'.\\n\"\n",
    "        \"Current configuration is:\"\n",
    "    )\n",
    "    try:\n",
    "        from modin.utils import get_current_execution\n",
    "\n",
    "        execution = get_current_execution()\n",
    "    except ImportError:\n",
    "        # for modin version < 0.12.0\n",
    "        try:\n",
    "            from modin.utils import get_current_backend\n",
    "\n",
    "            execution = get_current_backend()\n",
    "        except ImportError:\n",
    "            # for modin versions < 0.8.1\n",
    "            execution = (\n",
    "                \"Can't deduce the current execution, your Modin version is too old!\"\n",
    "            )\n",
    "    print(f\"\\tExecution: {execution}\")\n",
    "    try:\n",
    "        import modin.config as cfg\n",
    "\n",
    "        print(\n",
    "            f\"\\tIs experimental: {cfg.IsExperimental.get()}\\n\"\n",
    "            f\"\\tNumber of CPUs to utilize by Modin (check that Modin uses all CPUs on your machine): {cfg.CpuCount.get()}\\n\"\n",
    "            f\"\\tIs in debug mode (debug mode may perform slower): {cfg.IsDebug.get()}\"\n",
    "        )\n",
    "    except (ImportError, AttributeError):\n",
    "        # for modin versions < 0.8.2\n",
    "        print(\"\\tCan't deduce Modin configuration, your Modin version is too old!\")\n",
    "    import modin\n",
    "\n",
    "    print(f\"\\tModin version: {modin.__version__}\")"
   ]
  },
  {
   "cell_type": "markdown",
   "metadata": {},
   "source": [
    "## How to Use Modin"
   ]
  },
  {
   "cell_type": "markdown",
   "metadata": {},
   "source": [
    "We will also be importing **stock Pandas as pandas** and **Modin as pd to show differentiation**. You can see importing Modin is simple and **does not require any additional steps.**"
   ]
  },
  {
   "cell_type": "code",
   "execution_count": 5,
   "metadata": {
    "scrolled": true
   },
   "outputs": [],
   "source": [
    "import pandas"
   ]
  },
  {
   "cell_type": "code",
   "execution_count": 6,
   "metadata": {
    "scrolled": true
   },
   "outputs": [],
   "source": [
    "import modin.pandas as pd"
   ]
  },
  {
   "cell_type": "markdown",
   "metadata": {},
   "source": [
    "We will now **generate a synthetic dataset** using NumPy to use with Modin and save it to a CSV."
   ]
  },
  {
   "cell_type": "code",
   "execution_count": 7,
   "metadata": {
    "scrolled": true
   },
   "outputs": [],
   "source": [
    "array=np.random.randint(low=100,high=10000,size=(2**18,2**8))\n",
    "#array\n",
    "np.savetxt(\"foo.csv\", array, delimiter=\",\") #how to generate array"
   ]
  },
  {
   "cell_type": "markdown",
   "metadata": {},
   "source": [
    "Now we will convert the ndarray into a Pandas dataframe and display the first five rows.\n",
    "For **stock pandas, the dataframe is being stored as `pandas_df`** and for **Modin, the same dataframe is being stored as `modin_df`**.\n",
    "Let's try running the following cell with Pandas first."
   ]
  },
  {
   "cell_type": "code",
   "execution_count": 8,
   "metadata": {
    "scrolled": true
   },
   "outputs": [
    {
     "name": "stdout",
     "output_type": "stream",
     "text": [
      "CPU times: user 12 s, sys: 1.6 s, total: 13.6 s\n",
      "Wall time: 15.5 s\n"
     ]
    },
    {
     "data": {
      "text/html": [
       "<div>\n",
       "<style scoped>\n",
       "    .dataframe tbody tr th:only-of-type {\n",
       "        vertical-align: middle;\n",
       "    }\n",
       "\n",
       "    .dataframe tbody tr th {\n",
       "        vertical-align: top;\n",
       "    }\n",
       "\n",
       "    .dataframe thead th {\n",
       "        text-align: right;\n",
       "    }\n",
       "</style>\n",
       "<table border=\"1\" class=\"dataframe\">\n",
       "  <thead>\n",
       "    <tr style=\"text-align: right;\">\n",
       "      <th></th>\n",
       "      <th>col0</th>\n",
       "      <th>col1</th>\n",
       "      <th>col2</th>\n",
       "      <th>col3</th>\n",
       "      <th>col4</th>\n",
       "      <th>col5</th>\n",
       "      <th>col6</th>\n",
       "      <th>col7</th>\n",
       "      <th>col8</th>\n",
       "      <th>col9</th>\n",
       "      <th>...</th>\n",
       "      <th>col246</th>\n",
       "      <th>col247</th>\n",
       "      <th>col248</th>\n",
       "      <th>col249</th>\n",
       "      <th>col250</th>\n",
       "      <th>col251</th>\n",
       "      <th>col252</th>\n",
       "      <th>col253</th>\n",
       "      <th>col254</th>\n",
       "      <th>col255</th>\n",
       "    </tr>\n",
       "  </thead>\n",
       "  <tbody>\n",
       "    <tr>\n",
       "      <th>0</th>\n",
       "      <td>3403.0</td>\n",
       "      <td>7232.0</td>\n",
       "      <td>8592.0</td>\n",
       "      <td>6451.0</td>\n",
       "      <td>5741.0</td>\n",
       "      <td>9222.0</td>\n",
       "      <td>9565.0</td>\n",
       "      <td>1560.0</td>\n",
       "      <td>8212.0</td>\n",
       "      <td>7245.0</td>\n",
       "      <td>...</td>\n",
       "      <td>801.0</td>\n",
       "      <td>8949.0</td>\n",
       "      <td>6749.0</td>\n",
       "      <td>5436.0</td>\n",
       "      <td>9975.0</td>\n",
       "      <td>7339.0</td>\n",
       "      <td>3643.0</td>\n",
       "      <td>1690.0</td>\n",
       "      <td>3314.0</td>\n",
       "      <td>3417.0</td>\n",
       "    </tr>\n",
       "    <tr>\n",
       "      <th>1</th>\n",
       "      <td>8905.0</td>\n",
       "      <td>7830.0</td>\n",
       "      <td>1765.0</td>\n",
       "      <td>9886.0</td>\n",
       "      <td>3208.0</td>\n",
       "      <td>7536.0</td>\n",
       "      <td>9996.0</td>\n",
       "      <td>1495.0</td>\n",
       "      <td>607.0</td>\n",
       "      <td>7374.0</td>\n",
       "      <td>...</td>\n",
       "      <td>7688.0</td>\n",
       "      <td>6998.0</td>\n",
       "      <td>6585.0</td>\n",
       "      <td>8522.0</td>\n",
       "      <td>4443.0</td>\n",
       "      <td>2206.0</td>\n",
       "      <td>3721.0</td>\n",
       "      <td>4717.0</td>\n",
       "      <td>509.0</td>\n",
       "      <td>8320.0</td>\n",
       "    </tr>\n",
       "    <tr>\n",
       "      <th>2</th>\n",
       "      <td>8039.0</td>\n",
       "      <td>1927.0</td>\n",
       "      <td>9661.0</td>\n",
       "      <td>7323.0</td>\n",
       "      <td>386.0</td>\n",
       "      <td>2187.0</td>\n",
       "      <td>1262.0</td>\n",
       "      <td>7503.0</td>\n",
       "      <td>4353.0</td>\n",
       "      <td>1610.0</td>\n",
       "      <td>...</td>\n",
       "      <td>5627.0</td>\n",
       "      <td>6633.0</td>\n",
       "      <td>5627.0</td>\n",
       "      <td>8256.0</td>\n",
       "      <td>3143.0</td>\n",
       "      <td>7739.0</td>\n",
       "      <td>946.0</td>\n",
       "      <td>6071.0</td>\n",
       "      <td>1431.0</td>\n",
       "      <td>1575.0</td>\n",
       "    </tr>\n",
       "    <tr>\n",
       "      <th>3</th>\n",
       "      <td>7142.0</td>\n",
       "      <td>9296.0</td>\n",
       "      <td>3865.0</td>\n",
       "      <td>6093.0</td>\n",
       "      <td>2408.0</td>\n",
       "      <td>7508.0</td>\n",
       "      <td>177.0</td>\n",
       "      <td>2156.0</td>\n",
       "      <td>5027.0</td>\n",
       "      <td>5917.0</td>\n",
       "      <td>...</td>\n",
       "      <td>1101.0</td>\n",
       "      <td>3271.0</td>\n",
       "      <td>6345.0</td>\n",
       "      <td>539.0</td>\n",
       "      <td>5378.0</td>\n",
       "      <td>5209.0</td>\n",
       "      <td>7718.0</td>\n",
       "      <td>3773.0</td>\n",
       "      <td>9630.0</td>\n",
       "      <td>8022.0</td>\n",
       "    </tr>\n",
       "    <tr>\n",
       "      <th>4</th>\n",
       "      <td>2555.0</td>\n",
       "      <td>1853.0</td>\n",
       "      <td>8666.0</td>\n",
       "      <td>3898.0</td>\n",
       "      <td>2909.0</td>\n",
       "      <td>9641.0</td>\n",
       "      <td>3251.0</td>\n",
       "      <td>1531.0</td>\n",
       "      <td>3485.0</td>\n",
       "      <td>4762.0</td>\n",
       "      <td>...</td>\n",
       "      <td>5797.0</td>\n",
       "      <td>2574.0</td>\n",
       "      <td>844.0</td>\n",
       "      <td>9498.0</td>\n",
       "      <td>4877.0</td>\n",
       "      <td>7506.0</td>\n",
       "      <td>3134.0</td>\n",
       "      <td>5152.0</td>\n",
       "      <td>4078.0</td>\n",
       "      <td>9271.0</td>\n",
       "    </tr>\n",
       "  </tbody>\n",
       "</table>\n",
       "<p>5 rows × 256 columns</p>\n",
       "</div>"
      ],
      "text/plain": [
       "     col0    col1    col2    col3    col4    col5    col6    col7    col8  \\\n",
       "0  3403.0  7232.0  8592.0  6451.0  5741.0  9222.0  9565.0  1560.0  8212.0   \n",
       "1  8905.0  7830.0  1765.0  9886.0  3208.0  7536.0  9996.0  1495.0   607.0   \n",
       "2  8039.0  1927.0  9661.0  7323.0   386.0  2187.0  1262.0  7503.0  4353.0   \n",
       "3  7142.0  9296.0  3865.0  6093.0  2408.0  7508.0   177.0  2156.0  5027.0   \n",
       "4  2555.0  1853.0  8666.0  3898.0  2909.0  9641.0  3251.0  1531.0  3485.0   \n",
       "\n",
       "     col9  ...  col246  col247  col248  col249  col250  col251  col252  \\\n",
       "0  7245.0  ...   801.0  8949.0  6749.0  5436.0  9975.0  7339.0  3643.0   \n",
       "1  7374.0  ...  7688.0  6998.0  6585.0  8522.0  4443.0  2206.0  3721.0   \n",
       "2  1610.0  ...  5627.0  6633.0  5627.0  8256.0  3143.0  7739.0   946.0   \n",
       "3  5917.0  ...  1101.0  3271.0  6345.0   539.0  5378.0  5209.0  7718.0   \n",
       "4  4762.0  ...  5797.0  2574.0   844.0  9498.0  4877.0  7506.0  3134.0   \n",
       "\n",
       "   col253  col254  col255  \n",
       "0  1690.0  3314.0  3417.0  \n",
       "1  4717.0   509.0  8320.0  \n",
       "2  6071.0  1431.0  1575.0  \n",
       "3  3773.0  9630.0  8022.0  \n",
       "4  5152.0  4078.0  9271.0  \n",
       "\n",
       "[5 rows x 256 columns]"
      ]
     },
     "execution_count": 8,
     "metadata": {},
     "output_type": "execute_result"
    }
   ],
   "source": [
    "%%time\n",
    "pandas_df = pandas.read_csv(\"foo.csv\", names=[\"col{}\".format(i) for i in range(256)])\n",
    "pandas_df.head()"
   ]
  },
  {
   "cell_type": "markdown",
   "metadata": {},
   "source": [
    "Now let's run the same code, but use **Modin instead of stock Pandas.**\n",
    "\n",
    "**Note the speedup!**"
   ]
  },
  {
   "cell_type": "code",
   "execution_count": 9,
   "metadata": {
    "scrolled": true
   },
   "outputs": [
    {
     "name": "stderr",
     "output_type": "stream",
     "text": [
      "UserWarning: Ray execution environment not yet initialized. Initializing...\n",
      "To remove this warning, run the following python code before doing dataframe operations:\n",
      "\n",
      "    import ray\n",
      "    ray.init()\n",
      "\n",
      "UserWarning: Not all Ray Dashboard dependencies were found. To use the dashboard please install Ray using `pip install ray[default]`. To disable this message, set RAY_DISABLE_IMPORT_WARNING env var to '1'.\n"
     ]
    },
    {
     "name": "stdout",
     "output_type": "stream",
     "text": [
      "CPU times: user 2.62 s, sys: 784 ms, total: 3.4 s\n",
      "Wall time: 9.27 s\n"
     ]
    },
    {
     "data": {
      "text/html": [
       "<div>\n",
       "<style scoped>\n",
       "    .dataframe tbody tr th:only-of-type {\n",
       "        vertical-align: middle;\n",
       "    }\n",
       "\n",
       "    .dataframe tbody tr th {\n",
       "        vertical-align: top;\n",
       "    }\n",
       "\n",
       "    .dataframe thead th {\n",
       "        text-align: right;\n",
       "    }\n",
       "</style>\n",
       "<table border=\"1\" class=\"dataframe\">\n",
       "  <thead>\n",
       "    <tr style=\"text-align: right;\">\n",
       "      <th></th>\n",
       "      <th>col0</th>\n",
       "      <th>col1</th>\n",
       "      <th>col2</th>\n",
       "      <th>col3</th>\n",
       "      <th>col4</th>\n",
       "      <th>col5</th>\n",
       "      <th>col6</th>\n",
       "      <th>col7</th>\n",
       "      <th>col8</th>\n",
       "      <th>col9</th>\n",
       "      <th>...</th>\n",
       "      <th>col246</th>\n",
       "      <th>col247</th>\n",
       "      <th>col248</th>\n",
       "      <th>col249</th>\n",
       "      <th>col250</th>\n",
       "      <th>col251</th>\n",
       "      <th>col252</th>\n",
       "      <th>col253</th>\n",
       "      <th>col254</th>\n",
       "      <th>col255</th>\n",
       "    </tr>\n",
       "  </thead>\n",
       "  <tbody>\n",
       "    <tr>\n",
       "      <th>0</th>\n",
       "      <td>3403.0</td>\n",
       "      <td>7232.0</td>\n",
       "      <td>8592.0</td>\n",
       "      <td>6451.0</td>\n",
       "      <td>5741.0</td>\n",
       "      <td>9222.0</td>\n",
       "      <td>9565.0</td>\n",
       "      <td>1560.0</td>\n",
       "      <td>8212.0</td>\n",
       "      <td>7245.0</td>\n",
       "      <td>...</td>\n",
       "      <td>801.0</td>\n",
       "      <td>8949.0</td>\n",
       "      <td>6749.0</td>\n",
       "      <td>5436.0</td>\n",
       "      <td>9975.0</td>\n",
       "      <td>7339.0</td>\n",
       "      <td>3643.0</td>\n",
       "      <td>1690.0</td>\n",
       "      <td>3314.0</td>\n",
       "      <td>3417.0</td>\n",
       "    </tr>\n",
       "    <tr>\n",
       "      <th>1</th>\n",
       "      <td>8905.0</td>\n",
       "      <td>7830.0</td>\n",
       "      <td>1765.0</td>\n",
       "      <td>9886.0</td>\n",
       "      <td>3208.0</td>\n",
       "      <td>7536.0</td>\n",
       "      <td>9996.0</td>\n",
       "      <td>1495.0</td>\n",
       "      <td>607.0</td>\n",
       "      <td>7374.0</td>\n",
       "      <td>...</td>\n",
       "      <td>7688.0</td>\n",
       "      <td>6998.0</td>\n",
       "      <td>6585.0</td>\n",
       "      <td>8522.0</td>\n",
       "      <td>4443.0</td>\n",
       "      <td>2206.0</td>\n",
       "      <td>3721.0</td>\n",
       "      <td>4717.0</td>\n",
       "      <td>509.0</td>\n",
       "      <td>8320.0</td>\n",
       "    </tr>\n",
       "    <tr>\n",
       "      <th>2</th>\n",
       "      <td>8039.0</td>\n",
       "      <td>1927.0</td>\n",
       "      <td>9661.0</td>\n",
       "      <td>7323.0</td>\n",
       "      <td>386.0</td>\n",
       "      <td>2187.0</td>\n",
       "      <td>1262.0</td>\n",
       "      <td>7503.0</td>\n",
       "      <td>4353.0</td>\n",
       "      <td>1610.0</td>\n",
       "      <td>...</td>\n",
       "      <td>5627.0</td>\n",
       "      <td>6633.0</td>\n",
       "      <td>5627.0</td>\n",
       "      <td>8256.0</td>\n",
       "      <td>3143.0</td>\n",
       "      <td>7739.0</td>\n",
       "      <td>946.0</td>\n",
       "      <td>6071.0</td>\n",
       "      <td>1431.0</td>\n",
       "      <td>1575.0</td>\n",
       "    </tr>\n",
       "    <tr>\n",
       "      <th>3</th>\n",
       "      <td>7142.0</td>\n",
       "      <td>9296.0</td>\n",
       "      <td>3865.0</td>\n",
       "      <td>6093.0</td>\n",
       "      <td>2408.0</td>\n",
       "      <td>7508.0</td>\n",
       "      <td>177.0</td>\n",
       "      <td>2156.0</td>\n",
       "      <td>5027.0</td>\n",
       "      <td>5917.0</td>\n",
       "      <td>...</td>\n",
       "      <td>1101.0</td>\n",
       "      <td>3271.0</td>\n",
       "      <td>6345.0</td>\n",
       "      <td>539.0</td>\n",
       "      <td>5378.0</td>\n",
       "      <td>5209.0</td>\n",
       "      <td>7718.0</td>\n",
       "      <td>3773.0</td>\n",
       "      <td>9630.0</td>\n",
       "      <td>8022.0</td>\n",
       "    </tr>\n",
       "    <tr>\n",
       "      <th>4</th>\n",
       "      <td>2555.0</td>\n",
       "      <td>1853.0</td>\n",
       "      <td>8666.0</td>\n",
       "      <td>3898.0</td>\n",
       "      <td>2909.0</td>\n",
       "      <td>9641.0</td>\n",
       "      <td>3251.0</td>\n",
       "      <td>1531.0</td>\n",
       "      <td>3485.0</td>\n",
       "      <td>4762.0</td>\n",
       "      <td>...</td>\n",
       "      <td>5797.0</td>\n",
       "      <td>2574.0</td>\n",
       "      <td>844.0</td>\n",
       "      <td>9498.0</td>\n",
       "      <td>4877.0</td>\n",
       "      <td>7506.0</td>\n",
       "      <td>3134.0</td>\n",
       "      <td>5152.0</td>\n",
       "      <td>4078.0</td>\n",
       "      <td>9271.0</td>\n",
       "    </tr>\n",
       "  </tbody>\n",
       "</table>\n",
       "<p>5 rows x 256 columns</p>\n",
       "</div>"
      ],
      "text/plain": [
       "     col0    col1    col2    col3    col4    col5    col6    col7    col8  \\\n",
       "0  3403.0  7232.0  8592.0  6451.0  5741.0  9222.0  9565.0  1560.0  8212.0   \n",
       "1  8905.0  7830.0  1765.0  9886.0  3208.0  7536.0  9996.0  1495.0   607.0   \n",
       "2  8039.0  1927.0  9661.0  7323.0   386.0  2187.0  1262.0  7503.0  4353.0   \n",
       "3  7142.0  9296.0  3865.0  6093.0  2408.0  7508.0   177.0  2156.0  5027.0   \n",
       "4  2555.0  1853.0  8666.0  3898.0  2909.0  9641.0  3251.0  1531.0  3485.0   \n",
       "\n",
       "     col9  ...  col246  col247  col248  col249  col250  col251  col252  \\\n",
       "0  7245.0  ...   801.0  8949.0  6749.0  5436.0  9975.0  7339.0  3643.0   \n",
       "1  7374.0  ...  7688.0  6998.0  6585.0  8522.0  4443.0  2206.0  3721.0   \n",
       "2  1610.0  ...  5627.0  6633.0  5627.0  8256.0  3143.0  7739.0   946.0   \n",
       "3  5917.0  ...  1101.0  3271.0  6345.0   539.0  5378.0  5209.0  7718.0   \n",
       "4  4762.0  ...  5797.0  2574.0   844.0  9498.0  4877.0  7506.0  3134.0   \n",
       "\n",
       "   col253  col254  col255  \n",
       "0  1690.0  3314.0  3417.0  \n",
       "1  4717.0   509.0  8320.0  \n",
       "2  6071.0  1431.0  1575.0  \n",
       "3  3773.0  9630.0  8022.0  \n",
       "4  5152.0  4078.0  9271.0  \n",
       "\n",
       "[5 rows x 256 columns]"
      ]
     },
     "execution_count": 9,
     "metadata": {},
     "output_type": "execute_result"
    }
   ],
   "source": [
    "%%time\n",
    "modin_df=pd.read_csv(\"foo.csv\", names=[\"col{}\".format(i) for i in range(256)])\n",
    "modin_df.head()"
   ]
  },
  {
   "cell_type": "markdown",
   "metadata": {},
   "source": [
    "Let's now **visualize** this speedup from Modin with a plot!"
   ]
  },
  {
   "cell_type": "code",
   "execution_count": 10,
   "metadata": {
    "scrolled": true
   },
   "outputs": [],
   "source": [
    "def plotter(outputdict):\n",
    "    fig = plt.figure(figsize = (10, 5)) \n",
    "    plt.bar(outputdict.keys(),outputdict.values(),color='blue',width=0.4)\n",
    "    plt.xlabel(\"Python Package\")\n",
    "    plt.ylabel(\"Runtime(seconds)\")\n",
    "    plt.show()"
   ]
  },
  {
   "cell_type": "code",
   "execution_count": 11,
   "metadata": {
    "scrolled": false
   },
   "outputs": [
    {
     "name": "stdout",
     "output_type": "stream",
     "text": [
      "Pandas Time(seconds): 14.495349168777466 \n",
      "Modin Time(seconds): 2.903475761413574\n",
      "Modin was 4.99X faster than stock pandas!\n"
     ]
    },
    {
     "data": {
      "image/png": "[encoded data removed]",
      "text/plain": [
       "<Figure size 1000x500 with 1 Axes>"
      ]
     },
     "metadata": {},
     "output_type": "display_data"
    }
   ],
   "source": [
    "t0 = time.time()\n",
    "pandas_df = pandas.read_csv(\"foo.csv\", names=[\"col{}\".format(i) for i in range(256)])\n",
    "pandas_time = time.time()- t0\n",
    "\n",
    "t1 = time.time()\n",
    "modin_df = pd.read_csv(\"foo.csv\", names=[\"col{}\".format(i) for i in range(256)])\n",
    "modin_time = time.time() - t1\n",
    "\n",
    "print(\"Pandas Time(seconds):\",pandas_time,\"\\nModin Time(seconds):\",modin_time)\n",
    "verify_and_print_times(pandas_time, modin_time)\n",
    "outputDict={\"Pandas\":pandas_time,\"Modin\":modin_time}\n",
    "plotter(outputDict)"
   ]
  },
  {
   "cell_type": "markdown",
   "metadata": {},
   "source": [
    "## Other DataFrame Function Performance Example\n",
    "We will now show the speedup in performance from Modin compared to stock Pandas with a few common functions.\n",
    "\n",
    "Like before, **`pandas_df` is for  stock Pandas**, **`modin_df` is for Modin**."
   ]
  },
  {
   "cell_type": "markdown",
   "metadata": {},
   "source": [
    "### `df.mean()`"
   ]
  },
  {
   "cell_type": "code",
   "execution_count": 12,
   "metadata": {
    "scrolled": true
   },
   "outputs": [
    {
     "name": "stdout",
     "output_type": "stream",
     "text": [
      " stock Pandas wall time for completion in seconds: 0.10071349143981934\n"
     ]
    }
   ],
   "source": [
    "# Mean\n",
    "t2 = time.time()\n",
    "pandas_df.mean(axis=0)\n",
    "pandas_time=time.time()- t2\n",
    "print(\" stock Pandas wall time for completion in seconds:\",pandas_time)"
   ]
  },
  {
   "cell_type": "code",
   "execution_count": 13,
   "metadata": {
    "scrolled": true
   },
   "outputs": [
    {
     "name": "stdout",
     "output_type": "stream",
     "text": [
      "Modin wall time for completion in seconds: 0.4911317825317383\n"
     ]
    }
   ],
   "source": [
    "# Mean\n",
    "t3 = time.time()\n",
    "modin_df.mean(axis=0)\n",
    "modin_time=time.time()- t3\n",
    "print(\"Modin wall time for completion in seconds:\",modin_time)"
   ]
  },
  {
   "cell_type": "code",
   "execution_count": 14,
   "metadata": {
    "scrolled": true
   },
   "outputs": [
    {
     "name": "stdout",
     "output_type": "stream",
     "text": [
      "Oops, stock pandas appears to be 4.88X faster than Modin in this case. This is unlikely but could happen sometimes on certain machines/environments/datasets. One of the most probable reasons is the excessive amount of partitions being assigned to a single worker. You may visit Modin's optimization guide in order to learn more about such cases and how to fix them: \n",
      "https://modin.readthedocs.io/en/latest/usage_guide/optimization_notes/index.html\n",
      "\n",
      "But first, verify that you're using the latest Modin version, also, try to use different executions, for basic usage we recommend non-experimental 'PandasOnRay'.\n",
      "Current configuration is:\n",
      "\tExecution: PandasOnRay\n",
      "\tIs experimental: None\n",
      "\tNumber of CPUs to utilize by Modin (check that Modin uses all CPUs on your machine): 96\n",
      "\tIs in debug mode (debug mode may perform slower): None\n",
      "\tModin version: 0.11.3\n"
     ]
    }
   ],
   "source": [
    "verify_and_print_times(pandas_time, modin_time)"
   ]
  },
  {
   "cell_type": "markdown",
   "metadata": {},
   "source": [
    "### `df.applymap`"
   ]
  },
  {
   "cell_type": "code",
   "execution_count": 15,
   "metadata": {
    "scrolled": false
   },
   "outputs": [
    {
     "name": "stdout",
     "output_type": "stream",
     "text": [
      "          col0    col1    col2    col3    col4    col5    col6    col7  \\\n",
      "0       3404.0  7233.0  8593.0  6452.0  5742.0  9223.0  9566.0  1561.0   \n",
      "1       8906.0  7831.0  1766.0  9887.0  3209.0  7537.0  9997.0  1496.0   \n",
      "2       8040.0  1928.0  9662.0  7324.0   387.0  2188.0  1263.0  7504.0   \n",
      "3       7143.0  9297.0  3866.0  6094.0  2409.0  7509.0   178.0  2157.0   \n",
      "4       2556.0  1854.0  8667.0  3899.0  2910.0  9642.0  3252.0  1532.0   \n",
      "...        ...     ...     ...     ...     ...     ...     ...     ...   \n",
      "262139  6901.0  7773.0  1994.0  6078.0  8446.0  9981.0  6879.0   720.0   \n",
      "262140  1888.0  5857.0  7019.0  9730.0  8134.0  2428.0  1942.0  2338.0   \n",
      "262141   296.0  5778.0  7250.0  4353.0  4532.0  6823.0  2552.0  4964.0   \n",
      "262142  9087.0  3299.0  9104.0  1698.0  3116.0  9883.0  5172.0  4198.0   \n",
      "262143   946.0  2234.0  4352.0   975.0  8170.0  7792.0  9190.0  8470.0   \n",
      "\n",
      "          col8    col9  ...  col246  col247  col248  col249  col250  col251  \\\n",
      "0       8213.0  7246.0  ...   802.0  8950.0  6750.0  5437.0  9976.0  7340.0   \n",
      "1        608.0  7375.0  ...  7689.0  6999.0  6586.0  8523.0  4444.0  2207.0   \n",
      "2       4354.0  1611.0  ...  5628.0  6634.0  5628.0  8257.0  3144.0  7740.0   \n",
      "3       5028.0  5918.0  ...  1102.0  3272.0  6346.0   540.0  5379.0  5210.0   \n",
      "4       3486.0  4763.0  ...  5798.0  2575.0   845.0  9499.0  4878.0  7507.0   \n",
      "...        ...     ...  ...     ...     ...     ...     ...     ...     ...   \n",
      "262139   374.0  6435.0  ...  3011.0  3510.0  2391.0  4806.0  8460.0  8881.0   \n",
      "262140  8437.0  4682.0  ...  1294.0  6669.0  1405.0  5809.0  4516.0  7134.0   \n",
      "262141  5404.0  6361.0  ...  8998.0  9999.0  6744.0  7775.0  3714.0  4255.0   \n",
      "262142  1268.0  7093.0  ...  6930.0  1159.0  2456.0  2476.0  1165.0  6764.0   \n",
      "262143  5517.0  8682.0  ...  3181.0  7113.0  2508.0  7597.0  5134.0  9473.0   \n",
      "\n",
      "        col252  col253  col254  col255  \n",
      "0       3644.0  1691.0  3315.0  3418.0  \n",
      "1       3722.0  4718.0   510.0  8321.0  \n",
      "2        947.0  6072.0  1432.0  1576.0  \n",
      "3       7719.0  3774.0  9631.0  8023.0  \n",
      "4       3135.0  5153.0  4079.0  9272.0  \n",
      "...        ...     ...     ...     ...  \n",
      "262139  2699.0  2685.0   577.0  7671.0  \n",
      "262140  1213.0  9591.0  4181.0  6611.0  \n",
      "262141  4309.0   691.0  4932.0  9993.0  \n",
      "262142  4446.0  2240.0  3585.0  9201.0  \n",
      "262143  9962.0  4112.0  5330.0  4121.0  \n",
      "\n",
      "[262144 rows x 256 columns]\n",
      " stock Pandas wall time for completion in seconds: 15.34531569480896\n"
     ]
    }
   ],
   "source": [
    "# Long apply function\n",
    "t6 = time.time()\n",
    "print(pandas_df.applymap(lambda x: x + 1))\n",
    "pandas_time = time.time() - t6\n",
    "print(\" stock Pandas wall time for completion in seconds:\",pandas_time)"
   ]
  },
  {
   "cell_type": "code",
   "execution_count": 16,
   "metadata": {
    "scrolled": false
   },
   "outputs": [
    {
     "name": "stderr",
     "output_type": "stream",
     "text": [
      "UserWarning: User-defined function verification is still under development in Modin. The function provided is not verified.\n"
     ]
    },
    {
     "name": "stdout",
     "output_type": "stream",
     "text": [
      "          col0    col1    col2    col3    col4    col5    col6    col7  \\\n",
      "0       3404.0  7233.0  8593.0  6452.0  5742.0  9223.0  9566.0  1561.0   \n",
      "1       8906.0  7831.0  1766.0  9887.0  3209.0  7537.0  9997.0  1496.0   \n",
      "2       8040.0  1928.0  9662.0  7324.0   387.0  2188.0  1263.0  7504.0   \n",
      "3       7143.0  9297.0  3866.0  6094.0  2409.0  7509.0   178.0  2157.0   \n",
      "4       2556.0  1854.0  8667.0  3899.0  2910.0  9642.0  3252.0  1532.0   \n",
      "...        ...     ...     ...     ...     ...     ...     ...     ...   \n",
      "262139  6901.0  7773.0  1994.0  6078.0  8446.0  9981.0  6879.0   720.0   \n",
      "262140  1888.0  5857.0  7019.0  9730.0  8134.0  2428.0  1942.0  2338.0   \n",
      "262141   296.0  5778.0  7250.0  4353.0  4532.0  6823.0  2552.0  4964.0   \n",
      "262142  9087.0  3299.0  9104.0  1698.0  3116.0  9883.0  5172.0  4198.0   \n",
      "262143   946.0  2234.0  4352.0   975.0  8170.0  7792.0  9190.0  8470.0   \n",
      "\n",
      "          col8    col9  ...  col246  col247  col248  col249  col250  col251  \\\n",
      "0       8213.0  7246.0  ...   802.0  8950.0  6750.0  5437.0  9976.0  7340.0   \n",
      "1        608.0  7375.0  ...  7689.0  6999.0  6586.0  8523.0  4444.0  2207.0   \n",
      "2       4354.0  1611.0  ...  5628.0  6634.0  5628.0  8257.0  3144.0  7740.0   \n",
      "3       5028.0  5918.0  ...  1102.0  3272.0  6346.0   540.0  5379.0  5210.0   \n",
      "4       3486.0  4763.0  ...  5798.0  2575.0   845.0  9499.0  4878.0  7507.0   \n",
      "...        ...     ...  ...     ...     ...     ...     ...     ...     ...   \n",
      "262139   374.0  6435.0  ...  3011.0  3510.0  2391.0  4806.0  8460.0  8881.0   \n",
      "262140  8437.0  4682.0  ...  1294.0  6669.0  1405.0  5809.0  4516.0  7134.0   \n",
      "262141  5404.0  6361.0  ...  8998.0  9999.0  6744.0  7775.0  3714.0  4255.0   \n",
      "262142  1268.0  7093.0  ...  6930.0  1159.0  2456.0  2476.0  1165.0  6764.0   \n",
      "262143  5517.0  8682.0  ...  3181.0  7113.0  2508.0  7597.0  5134.0  9473.0   \n",
      "\n",
      "        col252  col253  col254  col255  \n",
      "0       3644.0  1691.0  3315.0  3418.0  \n",
      "1       3722.0  4718.0   510.0  8321.0  \n",
      "2        947.0  6072.0  1432.0  1576.0  \n",
      "3       7719.0  3774.0  9631.0  8023.0  \n",
      "4       3135.0  5153.0  4079.0  9272.0  \n",
      "...        ...     ...     ...     ...  \n",
      "262139  2699.0  2685.0   577.0  7671.0  \n",
      "262140  1213.0  9591.0  4181.0  6611.0  \n",
      "262141  4309.0   691.0  4932.0  9993.0  \n",
      "262142  4446.0  2240.0  3585.0  9201.0  \n",
      "262143  9962.0  4112.0  5330.0  4121.0  \n",
      "\n",
      "[262144 rows x 256 columns]\n",
      "Modin wall time for completion in seconds: 0.6583092212677002\n"
     ]
    }
   ],
   "source": [
    "# Long apply function\n",
    "t7 = time.time()\n",
    "print(modin_df.applymap(lambda x: x + 1))\n",
    "modin_time = time.time() - t7\n",
    "print(\"Modin wall time for completion in seconds:\",modin_time)"
   ]
  },
  {
   "cell_type": "code",
   "execution_count": 17,
   "metadata": {
    "scrolled": true
   },
   "outputs": [
    {
     "name": "stdout",
     "output_type": "stream",
     "text": [
      "Modin was 23.31X faster than stock pandas!\n"
     ]
    }
   ],
   "source": [
    "verify_and_print_times(pandas_time, modin_time)"
   ]
  },
  {
   "cell_type": "markdown",
   "metadata": {},
   "source": [
    "### `pd.concat([df, df])`"
   ]
  },
  {
   "cell_type": "code",
   "execution_count": 18,
   "metadata": {
    "scrolled": true
   },
   "outputs": [
    {
     "name": "stdout",
     "output_type": "stream",
     "text": [
      "          col0    col1    col2    col3    col4    col5    col6    col7  \\\n",
      "0       3403.0  7232.0  8592.0  6451.0  5741.0  9222.0  9565.0  1560.0   \n",
      "1       8905.0  7830.0  1765.0  9886.0  3208.0  7536.0  9996.0  1495.0   \n",
      "2       8039.0  1927.0  9661.0  7323.0   386.0  2187.0  1262.0  7503.0   \n",
      "3       7142.0  9296.0  3865.0  6093.0  2408.0  7508.0   177.0  2156.0   \n",
      "4       2555.0  1853.0  8666.0  3898.0  2909.0  9641.0  3251.0  1531.0   \n",
      "...        ...     ...     ...     ...     ...     ...     ...     ...   \n",
      "262139  6900.0  7772.0  1993.0  6077.0  8445.0  9980.0  6878.0   719.0   \n",
      "262140  1887.0  5856.0  7018.0  9729.0  8133.0  2427.0  1941.0  2337.0   \n",
      "262141   295.0  5777.0  7249.0  4352.0  4531.0  6822.0  2551.0  4963.0   \n",
      "262142  9086.0  3298.0  9103.0  1697.0  3115.0  9882.0  5171.0  4197.0   \n",
      "262143   945.0  2233.0  4351.0   974.0  8169.0  7791.0  9189.0  8469.0   \n",
      "\n",
      "          col8    col9  ...  col246  col247  col248  col249  col250  col251  \\\n",
      "0       8212.0  7245.0  ...   801.0  8949.0  6749.0  5436.0  9975.0  7339.0   \n",
      "1        607.0  7374.0  ...  7688.0  6998.0  6585.0  8522.0  4443.0  2206.0   \n",
      "2       4353.0  1610.0  ...  5627.0  6633.0  5627.0  8256.0  3143.0  7739.0   \n",
      "3       5027.0  5917.0  ...  1101.0  3271.0  6345.0   539.0  5378.0  5209.0   \n",
      "4       3485.0  4762.0  ...  5797.0  2574.0   844.0  9498.0  4877.0  7506.0   \n",
      "...        ...     ...  ...     ...     ...     ...     ...     ...     ...   \n",
      "262139   373.0  6434.0  ...  3010.0  3509.0  2390.0  4805.0  8459.0  8880.0   \n",
      "262140  8436.0  4681.0  ...  1293.0  6668.0  1404.0  5808.0  4515.0  7133.0   \n",
      "262141  5403.0  6360.0  ...  8997.0  9998.0  6743.0  7774.0  3713.0  4254.0   \n",
      "262142  1267.0  7092.0  ...  6929.0  1158.0  2455.0  2475.0  1164.0  6763.0   \n",
      "262143  5516.0  8681.0  ...  3180.0  7112.0  2507.0  7596.0  5133.0  9472.0   \n",
      "\n",
      "        col252  col253  col254  col255  \n",
      "0       3643.0  1690.0  3314.0  3417.0  \n",
      "1       3721.0  4717.0   509.0  8320.0  \n",
      "2        946.0  6071.0  1431.0  1575.0  \n",
      "3       7718.0  3773.0  9630.0  8022.0  \n",
      "4       3134.0  5152.0  4078.0  9271.0  \n",
      "...        ...     ...     ...     ...  \n",
      "262139  2698.0  2684.0   576.0  7670.0  \n",
      "262140  1212.0  9590.0  4180.0  6610.0  \n",
      "262141  4308.0   690.0  4931.0  9992.0  \n",
      "262142  4445.0  2239.0  3584.0  9200.0  \n",
      "262143  9961.0  4111.0  5329.0  4120.0  \n",
      "\n",
      "[524288 rows x 256 columns]\n",
      "stock Pandas wall time for completion in seconds: 0.7476842403411865\n"
     ]
    }
   ],
   "source": [
    "# Concat\n",
    "t8 = time.time()\n",
    "print(pandas.concat([pandas_df, pandas_df], axis=0))\n",
    "pandas_time = time.time() - t8\n",
    "print(\"stock Pandas wall time for completion in seconds:\",pandas_time)"
   ]
  },
  {
   "cell_type": "code",
   "execution_count": 19,
   "metadata": {
    "scrolled": true
   },
   "outputs": [
    {
     "name": "stdout",
     "output_type": "stream",
     "text": [
      "          col0    col1    col2    col3    col4    col5    col6    col7  \\\n",
      "0       3403.0  7232.0  8592.0  6451.0  5741.0  9222.0  9565.0  1560.0   \n",
      "1       8905.0  7830.0  1765.0  9886.0  3208.0  7536.0  9996.0  1495.0   \n",
      "2       8039.0  1927.0  9661.0  7323.0   386.0  2187.0  1262.0  7503.0   \n",
      "3       7142.0  9296.0  3865.0  6093.0  2408.0  7508.0   177.0  2156.0   \n",
      "4       2555.0  1853.0  8666.0  3898.0  2909.0  9641.0  3251.0  1531.0   \n",
      "...        ...     ...     ...     ...     ...     ...     ...     ...   \n",
      "262139  6900.0  7772.0  1993.0  6077.0  8445.0  9980.0  6878.0   719.0   \n",
      "262140  1887.0  5856.0  7018.0  9729.0  8133.0  2427.0  1941.0  2337.0   \n",
      "262141   295.0  5777.0  7249.0  4352.0  4531.0  6822.0  2551.0  4963.0   \n",
      "262142  9086.0  3298.0  9103.0  1697.0  3115.0  9882.0  5171.0  4197.0   \n",
      "262143   945.0  2233.0  4351.0   974.0  8169.0  7791.0  9189.0  8469.0   \n",
      "\n",
      "          col8    col9  ...  col246  col247  col248  col249  col250  col251  \\\n",
      "0       8212.0  7245.0  ...   801.0  8949.0  6749.0  5436.0  9975.0  7339.0   \n",
      "1        607.0  7374.0  ...  7688.0  6998.0  6585.0  8522.0  4443.0  2206.0   \n",
      "2       4353.0  1610.0  ...  5627.0  6633.0  5627.0  8256.0  3143.0  7739.0   \n",
      "3       5027.0  5917.0  ...  1101.0  3271.0  6345.0   539.0  5378.0  5209.0   \n",
      "4       3485.0  4762.0  ...  5797.0  2574.0   844.0  9498.0  4877.0  7506.0   \n",
      "...        ...     ...  ...     ...     ...     ...     ...     ...     ...   \n",
      "262139   373.0  6434.0  ...  3010.0  3509.0  2390.0  4805.0  8459.0  8880.0   \n",
      "262140  8436.0  4681.0  ...  1293.0  6668.0  1404.0  5808.0  4515.0  7133.0   \n",
      "262141  5403.0  6360.0  ...  8997.0  9998.0  6743.0  7774.0  3713.0  4254.0   \n",
      "262142  1267.0  7092.0  ...  6929.0  1158.0  2455.0  2475.0  1164.0  6763.0   \n",
      "262143  5516.0  8681.0  ...  3180.0  7112.0  2507.0  7596.0  5133.0  9472.0   \n",
      "\n",
      "        col252  col253  col254  col255  \n",
      "0       3643.0  1690.0  3314.0  3417.0  \n",
      "1       3721.0  4717.0   509.0  8320.0  \n",
      "2        946.0  6071.0  1431.0  1575.0  \n",
      "3       7718.0  3773.0  9630.0  8022.0  \n",
      "4       3134.0  5152.0  4078.0  9271.0  \n",
      "...        ...     ...     ...     ...  \n",
      "262139  2698.0  2684.0   576.0  7670.0  \n",
      "262140  1212.0  9590.0  4180.0  6610.0  \n",
      "262141  4308.0   690.0  4931.0  9992.0  \n",
      "262142  4445.0  2239.0  3584.0  9200.0  \n",
      "262143  9961.0  4111.0  5329.0  4120.0  \n",
      "\n",
      "[524288 rows x 256 columns]\n",
      "Modin wall time for completion in seconds: 0.05333971977233887\n"
     ]
    }
   ],
   "source": [
    "# Concat\n",
    "t9 = time.time()\n",
    "print(pd.concat([modin_df, modin_df], axis=0))\n",
    "modin_time = time.time() - t9\n",
    "print(\"Modin wall time for completion in seconds:\",modin_time)"
   ]
  },
  {
   "cell_type": "code",
   "execution_count": 20,
   "metadata": {
    "scrolled": true
   },
   "outputs": [
    {
     "name": "stdout",
     "output_type": "stream",
     "text": [
      "Modin was 14.02X faster than stock pandas!\n"
     ]
    }
   ],
   "source": [
    "verify_and_print_times(pandas_time, modin_time)"
   ]
  },
  {
   "cell_type": "markdown",
   "metadata": {},
   "source": [
    "## Modin Coverage Examples \n",
    "The Modin package supports a large variety of Pandas functions.\n",
    "Here are some examples:"
   ]
  },
  {
   "cell_type": "markdown",
   "metadata": {},
   "source": [
    "### Count"
   ]
  },
  {
   "cell_type": "code",
   "execution_count": 21,
   "metadata": {
    "scrolled": true
   },
   "outputs": [
    {
     "data": {
      "text/plain": [
       "col0      262144\n",
       "col1      262144\n",
       "col2      262144\n",
       "col3      262144\n",
       "col4      262144\n",
       "           ...  \n",
       "col251    262144\n",
       "col252    262144\n",
       "col253    262144\n",
       "col254    262144\n",
       "col255    262144\n",
       "Length: 256, dtype: int64"
      ]
     },
     "execution_count": 21,
     "metadata": {},
     "output_type": "execute_result"
    }
   ],
   "source": [
    "modin_df.count()"
   ]
  },
  {
   "cell_type": "markdown",
   "metadata": {},
   "source": [
    "### Filter"
   ]
  },
  {
   "cell_type": "code",
   "execution_count": 22,
   "metadata": {
    "scrolled": true
   },
   "outputs": [
    {
     "data": {
      "text/html": [
       "<div>\n",
       "<style scoped>\n",
       "    .dataframe tbody tr th:only-of-type {\n",
       "        vertical-align: middle;\n",
       "    }\n",
       "\n",
       "    .dataframe tbody tr th {\n",
       "        vertical-align: top;\n",
       "    }\n",
       "\n",
       "    .dataframe thead th {\n",
       "        text-align: right;\n",
       "    }\n",
       "</style>\n",
       "<table border=\"1\" class=\"dataframe\">\n",
       "  <thead>\n",
       "    <tr style=\"text-align: right;\">\n",
       "      <th></th>\n",
       "      <th>col0</th>\n",
       "      <th>col10</th>\n",
       "      <th>col20</th>\n",
       "      <th>col30</th>\n",
       "      <th>col40</th>\n",
       "      <th>col50</th>\n",
       "      <th>col60</th>\n",
       "      <th>col70</th>\n",
       "      <th>col80</th>\n",
       "      <th>col90</th>\n",
       "      <th>...</th>\n",
       "      <th>col160</th>\n",
       "      <th>col170</th>\n",
       "      <th>col180</th>\n",
       "      <th>col190</th>\n",
       "      <th>col200</th>\n",
       "      <th>col210</th>\n",
       "      <th>col220</th>\n",
       "      <th>col230</th>\n",
       "      <th>col240</th>\n",
       "      <th>col250</th>\n",
       "    </tr>\n",
       "  </thead>\n",
       "  <tbody>\n",
       "    <tr>\n",
       "      <th>0</th>\n",
       "      <td>3403.0</td>\n",
       "      <td>4616.0</td>\n",
       "      <td>7704.0</td>\n",
       "      <td>1309.0</td>\n",
       "      <td>533.0</td>\n",
       "      <td>5918.0</td>\n",
       "      <td>1066.0</td>\n",
       "      <td>3982.0</td>\n",
       "      <td>8693.0</td>\n",
       "      <td>9135.0</td>\n",
       "      <td>...</td>\n",
       "      <td>9764.0</td>\n",
       "      <td>9695.0</td>\n",
       "      <td>8222.0</td>\n",
       "      <td>3391.0</td>\n",
       "      <td>4137.0</td>\n",
       "      <td>1512.0</td>\n",
       "      <td>4470.0</td>\n",
       "      <td>5772.0</td>\n",
       "      <td>2573.0</td>\n",
       "      <td>9975.0</td>\n",
       "    </tr>\n",
       "    <tr>\n",
       "      <th>1</th>\n",
       "      <td>8905.0</td>\n",
       "      <td>3973.0</td>\n",
       "      <td>6156.0</td>\n",
       "      <td>9023.0</td>\n",
       "      <td>7606.0</td>\n",
       "      <td>6136.0</td>\n",
       "      <td>8581.0</td>\n",
       "      <td>9329.0</td>\n",
       "      <td>1200.0</td>\n",
       "      <td>7279.0</td>\n",
       "      <td>...</td>\n",
       "      <td>232.0</td>\n",
       "      <td>6681.0</td>\n",
       "      <td>8928.0</td>\n",
       "      <td>6675.0</td>\n",
       "      <td>565.0</td>\n",
       "      <td>8397.0</td>\n",
       "      <td>6054.0</td>\n",
       "      <td>5977.0</td>\n",
       "      <td>7343.0</td>\n",
       "      <td>4443.0</td>\n",
       "    </tr>\n",
       "    <tr>\n",
       "      <th>2</th>\n",
       "      <td>8039.0</td>\n",
       "      <td>5345.0</td>\n",
       "      <td>1921.0</td>\n",
       "      <td>7332.0</td>\n",
       "      <td>7075.0</td>\n",
       "      <td>5302.0</td>\n",
       "      <td>7376.0</td>\n",
       "      <td>5368.0</td>\n",
       "      <td>8819.0</td>\n",
       "      <td>2316.0</td>\n",
       "      <td>...</td>\n",
       "      <td>7302.0</td>\n",
       "      <td>4228.0</td>\n",
       "      <td>1768.0</td>\n",
       "      <td>3363.0</td>\n",
       "      <td>9915.0</td>\n",
       "      <td>9898.0</td>\n",
       "      <td>3064.0</td>\n",
       "      <td>319.0</td>\n",
       "      <td>2827.0</td>\n",
       "      <td>3143.0</td>\n",
       "    </tr>\n",
       "    <tr>\n",
       "      <th>3</th>\n",
       "      <td>7142.0</td>\n",
       "      <td>7906.0</td>\n",
       "      <td>9952.0</td>\n",
       "      <td>1658.0</td>\n",
       "      <td>3352.0</td>\n",
       "      <td>817.0</td>\n",
       "      <td>445.0</td>\n",
       "      <td>8872.0</td>\n",
       "      <td>3302.0</td>\n",
       "      <td>8105.0</td>\n",
       "      <td>...</td>\n",
       "      <td>5500.0</td>\n",
       "      <td>8455.0</td>\n",
       "      <td>487.0</td>\n",
       "      <td>1208.0</td>\n",
       "      <td>8312.0</td>\n",
       "      <td>6810.0</td>\n",
       "      <td>3683.0</td>\n",
       "      <td>2309.0</td>\n",
       "      <td>672.0</td>\n",
       "      <td>5378.0</td>\n",
       "    </tr>\n",
       "    <tr>\n",
       "      <th>4</th>\n",
       "      <td>2555.0</td>\n",
       "      <td>6672.0</td>\n",
       "      <td>1876.0</td>\n",
       "      <td>6247.0</td>\n",
       "      <td>2482.0</td>\n",
       "      <td>446.0</td>\n",
       "      <td>1350.0</td>\n",
       "      <td>8505.0</td>\n",
       "      <td>4573.0</td>\n",
       "      <td>5633.0</td>\n",
       "      <td>...</td>\n",
       "      <td>1018.0</td>\n",
       "      <td>2086.0</td>\n",
       "      <td>2241.0</td>\n",
       "      <td>8624.0</td>\n",
       "      <td>6785.0</td>\n",
       "      <td>7352.0</td>\n",
       "      <td>9814.0</td>\n",
       "      <td>8423.0</td>\n",
       "      <td>879.0</td>\n",
       "      <td>4877.0</td>\n",
       "    </tr>\n",
       "    <tr>\n",
       "      <th>...</th>\n",
       "      <td>...</td>\n",
       "      <td>...</td>\n",
       "      <td>...</td>\n",
       "      <td>...</td>\n",
       "      <td>...</td>\n",
       "      <td>...</td>\n",
       "      <td>...</td>\n",
       "      <td>...</td>\n",
       "      <td>...</td>\n",
       "      <td>...</td>\n",
       "      <td>...</td>\n",
       "      <td>...</td>\n",
       "      <td>...</td>\n",
       "      <td>...</td>\n",
       "      <td>...</td>\n",
       "      <td>...</td>\n",
       "      <td>...</td>\n",
       "      <td>...</td>\n",
       "      <td>...</td>\n",
       "      <td>...</td>\n",
       "      <td>...</td>\n",
       "    </tr>\n",
       "    <tr>\n",
       "      <th>262139</th>\n",
       "      <td>6900.0</td>\n",
       "      <td>7623.0</td>\n",
       "      <td>576.0</td>\n",
       "      <td>2880.0</td>\n",
       "      <td>5647.0</td>\n",
       "      <td>1074.0</td>\n",
       "      <td>3443.0</td>\n",
       "      <td>221.0</td>\n",
       "      <td>2490.0</td>\n",
       "      <td>1920.0</td>\n",
       "      <td>...</td>\n",
       "      <td>1288.0</td>\n",
       "      <td>3388.0</td>\n",
       "      <td>8345.0</td>\n",
       "      <td>3220.0</td>\n",
       "      <td>1457.0</td>\n",
       "      <td>3109.0</td>\n",
       "      <td>4719.0</td>\n",
       "      <td>4356.0</td>\n",
       "      <td>391.0</td>\n",
       "      <td>8459.0</td>\n",
       "    </tr>\n",
       "    <tr>\n",
       "      <th>262140</th>\n",
       "      <td>1887.0</td>\n",
       "      <td>5494.0</td>\n",
       "      <td>8244.0</td>\n",
       "      <td>7513.0</td>\n",
       "      <td>6965.0</td>\n",
       "      <td>2010.0</td>\n",
       "      <td>5322.0</td>\n",
       "      <td>7539.0</td>\n",
       "      <td>6140.0</td>\n",
       "      <td>7384.0</td>\n",
       "      <td>...</td>\n",
       "      <td>8716.0</td>\n",
       "      <td>849.0</td>\n",
       "      <td>6955.0</td>\n",
       "      <td>8252.0</td>\n",
       "      <td>5572.0</td>\n",
       "      <td>856.0</td>\n",
       "      <td>2081.0</td>\n",
       "      <td>1625.0</td>\n",
       "      <td>9668.0</td>\n",
       "      <td>4515.0</td>\n",
       "    </tr>\n",
       "    <tr>\n",
       "      <th>262141</th>\n",
       "      <td>295.0</td>\n",
       "      <td>6680.0</td>\n",
       "      <td>1807.0</td>\n",
       "      <td>6066.0</td>\n",
       "      <td>9987.0</td>\n",
       "      <td>1318.0</td>\n",
       "      <td>4329.0</td>\n",
       "      <td>9410.0</td>\n",
       "      <td>6364.0</td>\n",
       "      <td>2153.0</td>\n",
       "      <td>...</td>\n",
       "      <td>3709.0</td>\n",
       "      <td>1709.0</td>\n",
       "      <td>8957.0</td>\n",
       "      <td>9844.0</td>\n",
       "      <td>4945.0</td>\n",
       "      <td>1090.0</td>\n",
       "      <td>5043.0</td>\n",
       "      <td>2545.0</td>\n",
       "      <td>3840.0</td>\n",
       "      <td>3713.0</td>\n",
       "    </tr>\n",
       "    <tr>\n",
       "      <th>262142</th>\n",
       "      <td>9086.0</td>\n",
       "      <td>7085.0</td>\n",
       "      <td>8772.0</td>\n",
       "      <td>9443.0</td>\n",
       "      <td>7096.0</td>\n",
       "      <td>2989.0</td>\n",
       "      <td>2197.0</td>\n",
       "      <td>2110.0</td>\n",
       "      <td>8478.0</td>\n",
       "      <td>8945.0</td>\n",
       "      <td>...</td>\n",
       "      <td>3352.0</td>\n",
       "      <td>591.0</td>\n",
       "      <td>7881.0</td>\n",
       "      <td>5446.0</td>\n",
       "      <td>947.0</td>\n",
       "      <td>7016.0</td>\n",
       "      <td>214.0</td>\n",
       "      <td>5311.0</td>\n",
       "      <td>4464.0</td>\n",
       "      <td>1164.0</td>\n",
       "    </tr>\n",
       "    <tr>\n",
       "      <th>262143</th>\n",
       "      <td>945.0</td>\n",
       "      <td>6573.0</td>\n",
       "      <td>9333.0</td>\n",
       "      <td>171.0</td>\n",
       "      <td>4743.0</td>\n",
       "      <td>3228.0</td>\n",
       "      <td>848.0</td>\n",
       "      <td>6367.0</td>\n",
       "      <td>6739.0</td>\n",
       "      <td>9469.0</td>\n",
       "      <td>...</td>\n",
       "      <td>6005.0</td>\n",
       "      <td>7413.0</td>\n",
       "      <td>7321.0</td>\n",
       "      <td>9822.0</td>\n",
       "      <td>926.0</td>\n",
       "      <td>7208.0</td>\n",
       "      <td>1532.0</td>\n",
       "      <td>9607.0</td>\n",
       "      <td>1691.0</td>\n",
       "      <td>5133.0</td>\n",
       "    </tr>\n",
       "  </tbody>\n",
       "</table>\n",
       "<p>262144 rows x 26 columns</p>\n",
       "</div>"
      ],
      "text/plain": [
       "          col0   col10   col20   col30   col40   col50   col60   col70  \\\n",
       "0       3403.0  4616.0  7704.0  1309.0   533.0  5918.0  1066.0  3982.0   \n",
       "1       8905.0  3973.0  6156.0  9023.0  7606.0  6136.0  8581.0  9329.0   \n",
       "2       8039.0  5345.0  1921.0  7332.0  7075.0  5302.0  7376.0  5368.0   \n",
       "3       7142.0  7906.0  9952.0  1658.0  3352.0   817.0   445.0  8872.0   \n",
       "4       2555.0  6672.0  1876.0  6247.0  2482.0   446.0  1350.0  8505.0   \n",
       "...        ...     ...     ...     ...     ...     ...     ...     ...   \n",
       "262139  6900.0  7623.0   576.0  2880.0  5647.0  1074.0  3443.0   221.0   \n",
       "262140  1887.0  5494.0  8244.0  7513.0  6965.0  2010.0  5322.0  7539.0   \n",
       "262141   295.0  6680.0  1807.0  6066.0  9987.0  1318.0  4329.0  9410.0   \n",
       "262142  9086.0  7085.0  8772.0  9443.0  7096.0  2989.0  2197.0  2110.0   \n",
       "262143   945.0  6573.0  9333.0   171.0  4743.0  3228.0   848.0  6367.0   \n",
       "\n",
       "         col80   col90  ...  col160  col170  col180  col190  col200  col210  \\\n",
       "0       8693.0  9135.0  ...  9764.0  9695.0  8222.0  3391.0  4137.0  1512.0   \n",
       "1       1200.0  7279.0  ...   232.0  6681.0  8928.0  6675.0   565.0  8397.0   \n",
       "2       8819.0  2316.0  ...  7302.0  4228.0  1768.0  3363.0  9915.0  9898.0   \n",
       "3       3302.0  8105.0  ...  5500.0  8455.0   487.0  1208.0  8312.0  6810.0   \n",
       "4       4573.0  5633.0  ...  1018.0  2086.0  2241.0  8624.0  6785.0  7352.0   \n",
       "...        ...     ...  ...     ...     ...     ...     ...     ...     ...   \n",
       "262139  2490.0  1920.0  ...  1288.0  3388.0  8345.0  3220.0  1457.0  3109.0   \n",
       "262140  6140.0  7384.0  ...  8716.0   849.0  6955.0  8252.0  5572.0   856.0   \n",
       "262141  6364.0  2153.0  ...  3709.0  1709.0  8957.0  9844.0  4945.0  1090.0   \n",
       "262142  8478.0  8945.0  ...  3352.0   591.0  7881.0  5446.0   947.0  7016.0   \n",
       "262143  6739.0  9469.0  ...  6005.0  7413.0  7321.0  9822.0   926.0  7208.0   \n",
       "\n",
       "        col220  col230  col240  col250  \n",
       "0       4470.0  5772.0  2573.0  9975.0  \n",
       "1       6054.0  5977.0  7343.0  4443.0  \n",
       "2       3064.0   319.0  2827.0  3143.0  \n",
       "3       3683.0  2309.0   672.0  5378.0  \n",
       "4       9814.0  8423.0   879.0  4877.0  \n",
       "...        ...     ...     ...     ...  \n",
       "262139  4719.0  4356.0   391.0  8459.0  \n",
       "262140  2081.0  1625.0  9668.0  4515.0  \n",
       "262141  5043.0  2545.0  3840.0  3713.0  \n",
       "262142   214.0  5311.0  4464.0  1164.0  \n",
       "262143  1532.0  9607.0  1691.0  5133.0  \n",
       "\n",
       "[262144 rows x 26 columns]"
      ]
     },
     "execution_count": 22,
     "metadata": {},
     "output_type": "execute_result"
    }
   ],
   "source": [
    "modin_df.filter(regex='0$', axis=1)"
   ]
  },
  {
   "cell_type": "markdown",
   "metadata": {},
   "source": [
    "### iloc"
   ]
  },
  {
   "cell_type": "code",
   "execution_count": 23,
   "metadata": {
    "scrolled": true
   },
   "outputs": [
    {
     "data": {
      "text/plain": [
       "0         3417.0\n",
       "1         8320.0\n",
       "2         1575.0\n",
       "3         8022.0\n",
       "4         9271.0\n",
       "           ...  \n",
       "262139    7670.0\n",
       "262140    6610.0\n",
       "262141    9992.0\n",
       "262142    9200.0\n",
       "262143    4120.0\n",
       "Name: col255, Length: 262144, dtype: float64"
      ]
     },
     "execution_count": 23,
     "metadata": {},
     "output_type": "execute_result"
    }
   ],
   "source": [
    "modin_df.iloc[0]\n",
    "modin_df.iloc[-1]\n",
    "modin_df.iloc[:,0]\n",
    "modin_df.iloc[:,-1]"
   ]
  },
  {
   "cell_type": "markdown",
   "metadata": {},
   "source": [
    "## Series"
   ]
  },
  {
   "cell_type": "code",
   "execution_count": 24,
   "metadata": {
    "scrolled": true
   },
   "outputs": [
    {
     "name": "stderr",
     "output_type": "stream",
     "text": [
      "UserWarning: Distributing <class 'numpy.ndarray'> object. This may take some time.\n"
     ]
    }
   ],
   "source": [
    "s = pd.Series(np.random.randn(5), index=['a', 'b', 'c', 'd', 'e'])"
   ]
  },
  {
   "cell_type": "markdown",
   "metadata": {},
   "source": [
    "### DataFrame to NumPy Array"
   ]
  },
  {
   "cell_type": "code",
   "execution_count": 25,
   "metadata": {
    "scrolled": true
   },
   "outputs": [
    {
     "data": {
      "text/plain": [
       "array([[3403., 7232., 8592., ..., 1690., 3314., 3417.],\n",
       "       [8905., 7830., 1765., ..., 4717.,  509., 8320.],\n",
       "       [8039., 1927., 9661., ..., 6071., 1431., 1575.],\n",
       "       ...,\n",
       "       [ 295., 5777., 7249., ...,  690., 4931., 9992.],\n",
       "       [9086., 3298., 9103., ..., 2239., 3584., 9200.],\n",
       "       [ 945., 2233., 4351., ..., 4111., 5329., 4120.]])"
      ]
     },
     "execution_count": 25,
     "metadata": {},
     "output_type": "execute_result"
    }
   ],
   "source": [
    "modin_df.to_numpy()"
   ]
  },
  {
   "cell_type": "markdown",
   "metadata": {},
   "source": [
    "### Series to NumPy Array"
   ]
  },
  {
   "cell_type": "code",
   "execution_count": 26,
   "metadata": {
    "scrolled": true
   },
   "outputs": [
    {
     "name": "stderr",
     "output_type": "stream",
     "text": [
      "UserWarning: Distributing <class 'pandas.core.indexes.datetimes.DatetimeIndex'> object. This may take some time.\n"
     ]
    },
    {
     "data": {
      "text/plain": [
       "array([Timestamp('2000-01-01 00:00:00+0100', tz='CET'),\n",
       "       Timestamp('2000-01-02 00:00:00+0100', tz='CET')], dtype=object)"
      ]
     },
     "execution_count": 26,
     "metadata": {},
     "output_type": "execute_result"
    }
   ],
   "source": [
    "ser = pd.Series(pd.date_range('2000', periods=2, tz=\"CET\"))\n",
    "ser.to_numpy(dtype=object)\n",
    "ser.to_numpy(dtype=\"datetime64[ns]\")"
   ]
  },
  {
   "cell_type": "markdown",
   "metadata": {},
   "source": [
    "### Set Options"
   ]
  },
  {
   "cell_type": "code",
   "execution_count": 27,
   "metadata": {
    "scrolled": true
   },
   "outputs": [],
   "source": [
    "pd.set_option('compute.use_bottleneck', False)\n",
    "pd.set_option('compute.use_numexpr', False)"
   ]
  },
  {
   "cell_type": "markdown",
   "metadata": {},
   "source": [
    "### Unique Function for Series"
   ]
  },
  {
   "cell_type": "code",
   "execution_count": 28,
   "metadata": {
    "scrolled": true
   },
   "outputs": [
    {
     "name": "stderr",
     "output_type": "stream",
     "text": [
      "UserWarning: Distributing <class 'list'> object. This may take some time.\n"
     ]
    },
    {
     "data": {
      "text/plain": [
       "array([2, 1, 3])"
      ]
     },
     "execution_count": 28,
     "metadata": {},
     "output_type": "execute_result"
    }
   ],
   "source": [
    "pd.unique(pd.Series([2, 1, 3, 3]))"
   ]
  },
  {
   "cell_type": "code",
   "execution_count": 29,
   "metadata": {
    "scrolled": true
   },
   "outputs": [
    {
     "name": "stdout",
     "output_type": "stream",
     "text": [
      "[CODE_SAMPLE_COMPLETED_SUCCESFULLY]\n"
     ]
    }
   ],
   "source": [
    "print(\"[CODE_SAMPLE_COMPLETED_SUCCESFULLY]\")"
   ]
  }
 ],
 "metadata": {
  "kernelspec": {
   "display_name": "aikit_modin",
   "language": "python",
   "name": "aikit_modin"
  },
  "language_info": {
   "codemirror_mode": {
    "name": "ipython",
    "version": 3
   },
   "file_extension": ".py",
   "mimetype": "text/x-python",
   "name": "python",
   "nbconvert_exporter": "python",
   "pygments_lexer": "ipython3",
   "version": "3.7.12"
  }
 },
 "nbformat": 4,
 "nbformat_minor": 4
}
